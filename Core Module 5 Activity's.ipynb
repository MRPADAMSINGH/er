{
 "cells": [
  {
   "cell_type": "markdown",
   "id": "0025e6f1",
   "metadata": {},
   "source": [
    "<h1 style=color:green><span style=color:red>Activity-1.</span> Install NumPy, pandas, matplotlib, Seaborn, sklearn in python 3.</h1>"
   ]
  },
  {
   "cell_type": "code",
   "execution_count": 22,
   "id": "d267f107",
   "metadata": {},
   "outputs": [
    {
     "name": "stdout",
     "output_type": "stream",
     "text": [
      "Requirement already satisfied: pandas in c:\\users\\padam\\anaconda3\\lib\\site-packages (1.5.3)\n",
      "Requirement already satisfied: pytz>=2020.1 in c:\\users\\padam\\anaconda3\\lib\\site-packages (from pandas) (2022.7)\n",
      "Requirement already satisfied: numpy>=1.21.0 in c:\\users\\padam\\anaconda3\\lib\\site-packages (from pandas) (1.23.5)\n",
      "Requirement already satisfied: python-dateutil>=2.8.1 in c:\\users\\padam\\anaconda3\\lib\\site-packages (from pandas) (2.8.2)\n",
      "Requirement already satisfied: six>=1.5 in c:\\users\\padam\\anaconda3\\lib\\site-packages (from python-dateutil>=2.8.1->pandas) (1.16.0)\n"
     ]
    }
   ],
   "source": [
    "!pip install pandas"
   ]
  },
  {
   "cell_type": "code",
   "execution_count": 23,
   "id": "99fc2f5e",
   "metadata": {},
   "outputs": [
    {
     "name": "stdout",
     "output_type": "stream",
     "text": [
      "Requirement already satisfied: numpy in c:\\users\\padam\\anaconda3\\lib\\site-packages (1.23.5)\n"
     ]
    }
   ],
   "source": [
    "!pip install numpy"
   ]
  },
  {
   "cell_type": "code",
   "execution_count": 25,
   "id": "51298849",
   "metadata": {},
   "outputs": [
    {
     "name": "stdout",
     "output_type": "stream",
     "text": [
      "Requirement already satisfied: matplotlib in c:\\users\\padam\\anaconda3\\lib\\site-packages (3.7.0)\n",
      "Requirement already satisfied: numpy>=1.20 in c:\\users\\padam\\anaconda3\\lib\\site-packages (from matplotlib) (1.23.5)\n",
      "Requirement already satisfied: pillow>=6.2.0 in c:\\users\\padam\\anaconda3\\lib\\site-packages (from matplotlib) (9.4.0)\n",
      "Requirement already satisfied: pyparsing>=2.3.1 in c:\\users\\padam\\anaconda3\\lib\\site-packages (from matplotlib) (3.0.9)\n",
      "Requirement already satisfied: packaging>=20.0 in c:\\users\\padam\\anaconda3\\lib\\site-packages (from matplotlib) (22.0)\n",
      "Requirement already satisfied: python-dateutil>=2.7 in c:\\users\\padam\\anaconda3\\lib\\site-packages (from matplotlib) (2.8.2)\n",
      "Requirement already satisfied: fonttools>=4.22.0 in c:\\users\\padam\\anaconda3\\lib\\site-packages (from matplotlib) (4.25.0)\n",
      "Requirement already satisfied: cycler>=0.10 in c:\\users\\padam\\anaconda3\\lib\\site-packages (from matplotlib) (0.11.0)\n",
      "Requirement already satisfied: kiwisolver>=1.0.1 in c:\\users\\padam\\anaconda3\\lib\\site-packages (from matplotlib) (1.4.4)\n",
      "Requirement already satisfied: contourpy>=1.0.1 in c:\\users\\padam\\anaconda3\\lib\\site-packages (from matplotlib) (1.0.5)\n",
      "Requirement already satisfied: six>=1.5 in c:\\users\\padam\\anaconda3\\lib\\site-packages (from python-dateutil>=2.7->matplotlib) (1.16.0)\n"
     ]
    }
   ],
   "source": [
    "!pip install matplotlib"
   ]
  },
  {
   "cell_type": "code",
   "execution_count": 26,
   "id": "db4e69e1",
   "metadata": {},
   "outputs": [
    {
     "name": "stdout",
     "output_type": "stream",
     "text": [
      "Requirement already satisfied: seaborn in c:\\users\\padam\\anaconda3\\lib\\site-packages (0.12.2)\n",
      "Requirement already satisfied: numpy!=1.24.0,>=1.17 in c:\\users\\padam\\anaconda3\\lib\\site-packages (from seaborn) (1.23.5)\n",
      "Requirement already satisfied: matplotlib!=3.6.1,>=3.1 in c:\\users\\padam\\anaconda3\\lib\\site-packages (from seaborn) (3.7.0)\n",
      "Requirement already satisfied: pandas>=0.25 in c:\\users\\padam\\anaconda3\\lib\\site-packages (from seaborn) (1.5.3)\n",
      "Requirement already satisfied: cycler>=0.10 in c:\\users\\padam\\anaconda3\\lib\\site-packages (from matplotlib!=3.6.1,>=3.1->seaborn) (0.11.0)\n",
      "Requirement already satisfied: contourpy>=1.0.1 in c:\\users\\padam\\anaconda3\\lib\\site-packages (from matplotlib!=3.6.1,>=3.1->seaborn) (1.0.5)\n",
      "Requirement already satisfied: kiwisolver>=1.0.1 in c:\\users\\padam\\anaconda3\\lib\\site-packages (from matplotlib!=3.6.1,>=3.1->seaborn) (1.4.4)\n",
      "Requirement already satisfied: fonttools>=4.22.0 in c:\\users\\padam\\anaconda3\\lib\\site-packages (from matplotlib!=3.6.1,>=3.1->seaborn) (4.25.0)\n",
      "Requirement already satisfied: pyparsing>=2.3.1 in c:\\users\\padam\\anaconda3\\lib\\site-packages (from matplotlib!=3.6.1,>=3.1->seaborn) (3.0.9)\n",
      "Requirement already satisfied: pillow>=6.2.0 in c:\\users\\padam\\anaconda3\\lib\\site-packages (from matplotlib!=3.6.1,>=3.1->seaborn) (9.4.0)\n",
      "Requirement already satisfied: packaging>=20.0 in c:\\users\\padam\\anaconda3\\lib\\site-packages (from matplotlib!=3.6.1,>=3.1->seaborn) (22.0)\n",
      "Requirement already satisfied: python-dateutil>=2.7 in c:\\users\\padam\\anaconda3\\lib\\site-packages (from matplotlib!=3.6.1,>=3.1->seaborn) (2.8.2)\n",
      "Requirement already satisfied: pytz>=2020.1 in c:\\users\\padam\\anaconda3\\lib\\site-packages (from pandas>=0.25->seaborn) (2022.7)\n",
      "Requirement already satisfied: six>=1.5 in c:\\users\\padam\\anaconda3\\lib\\site-packages (from python-dateutil>=2.7->matplotlib!=3.6.1,>=3.1->seaborn) (1.16.0)\n"
     ]
    }
   ],
   "source": [
    "!pip install seaborn"
   ]
  },
  {
   "cell_type": "markdown",
   "id": "0fb35251",
   "metadata": {},
   "source": [
    "<h1 style=color:green><span style=color:red>Activity-2.</span> Creating arrays in NumPy.</h1>"
   ]
  },
  {
   "cell_type": "code",
   "execution_count": 12,
   "id": "65cbe0c7",
   "metadata": {},
   "outputs": [
    {
     "name": "stdout",
     "output_type": "stream",
     "text": [
      "[1 2 3]\n"
     ]
    },
    {
     "data": {
      "text/plain": [
       "numpy.ndarray"
      ]
     },
     "execution_count": 12,
     "metadata": {},
     "output_type": "execute_result"
    }
   ],
   "source": [
    "# First, we need to import the numpy library and give it the alias 'np'\n",
    "import numpy as np\n",
    "\n",
    "# Create a NumPy array containing the elements 1, 2, and 3\n",
    "arr = np.array([1, 2, 3])\n",
    "\n",
    "# Print the contents of the 'arr' array\n",
    "print(arr)\n",
    "\n",
    "# The following line is not needed; it just evaluates 'arr' and doesn't do anything with it.\n",
    "# If you want to see the output of 'arr' without using 'print', you can simply enter 'arr' in an interactive environment.\n",
    "# arr\n",
    "\n",
    "# Check and print the data type of the 'arr' array\n",
    "type(arr)\n"
   ]
  },
  {
   "cell_type": "markdown",
   "id": "a2139478",
   "metadata": {},
   "source": [
    "<h1 style=color:green><span style=color:red>Activity-3.</span> Creating multidimensional array in NumPy.</h1>"
   ]
  },
  {
   "cell_type": "code",
   "execution_count": 37,
   "id": "ebdb55e9",
   "metadata": {
    "scrolled": true
   },
   "outputs": [
    {
     "name": "stdout",
     "output_type": "stream",
     "text": [
      "0-D array - 42\n",
      "\n",
      "1-D array [1 2 3 4 5]\n",
      "\n",
      "2-D array [[1 2 3]\n",
      " [4 5 6]]\n",
      "\n",
      "3-D array [[[1 2 3]\n",
      "  [4 5 6]]\n",
      "\n",
      " [[1 2 3]\n",
      "  [4 5 6]]]\n"
     ]
    }
   ],
   "source": [
    "\n",
    "# Creating a 0-D array (Scalar) with a single element (42)\n",
    "arr_0d = np.array(42)\n",
    "print('0-D array -',arr_0d)  # Print the 0-D array (scalar)\n",
    "\n",
    "\n",
    "# Creating a 1-D array with elements 1, 2, 3, 4, and 5\n",
    "arr_1d = np.array([1, 2, 3, 4, 5])\n",
    "print('\\n1-D array',arr_1d)  # Print the 1-D array\n",
    "\n",
    "\n",
    "# Creating a 2-D array (matrix) with two rows and three columns\n",
    "arr_2d = np.array([[1, 2, 3], [4, 5, 6]])\n",
    "print('\\n2-D array',arr_2d)  # Print the 2-D array (matrix)\n",
    "\n",
    "\n",
    "# Creating a 3-D array with two \"matrices\" where each \"matrix\" is a 2-D array\n",
    "arr_3d = np.array([[[1, 2, 3], [4, 5, 6]], [[1, 2, 3], [4, 5, 6]]])\n",
    "print('\\n3-D array',arr_3d)  # Print the 3-D array\n"
   ]
  },
  {
   "cell_type": "markdown",
   "id": "269998f3",
   "metadata": {},
   "source": [
    "<h1 style=color:green><span style=color:red>Activity-4.</span> Numpy Operations, methods and attributes.</h1>"
   ]
  },
  {
   "cell_type": "code",
   "execution_count": 40,
   "id": "c5b40635",
   "metadata": {
    "scrolled": false
   },
   "outputs": [
    {
     "name": "stdout",
     "output_type": "stream",
     "text": [
      "Shape of arr1: (5,)\n",
      "Data type of arr1: int32\n",
      "Size of arr1: 5\n",
      "Reshaped arr1: [[1 2 3 4 5]]\n",
      "arr1 + arr2: [ 7  9 11 13 15]\n",
      "arr2 - arr1: [5 5 5 5 5]\n",
      "arr1 * arr2: [ 6 14 24 36 50]\n",
      "arr2 / arr1: [6.         3.5        2.66666667 2.25       2.        ]\n",
      "Sum of arr1: 15\n",
      "Mean of arr1: 3.0\n",
      "Max of arr2: 10\n",
      "Min of arr1: 1\n",
      "Element at index 2 of arr1: 3\n",
      "Subarray of arr1: [2 3 4]\n"
     ]
    }
   ],
   "source": [
    "\n",
    "# Create two example arrays\n",
    "arr1 = np.array([1, 2, 3, 4, 5])\n",
    "arr2 = np.array([6, 7, 8, 9, 10])\n",
    "\n",
    "# Basic NumPy array attributes and operations\n",
    "\n",
    "# Shape attribute: Get the shape of the array (dimensions)\n",
    "shape = arr1.shape\n",
    "print(\"Shape of arr1:\", shape)  \n",
    "\n",
    "# Data type attribute: Get the data type of the array\n",
    "dtype = arr1.dtype\n",
    "print(\"Data type of arr1:\", dtype) \n",
    "\n",
    "# Size attribute: Get the number of elements in the array\n",
    "size = arr1.size\n",
    "print(\"Size of arr1:\", size) \n",
    "\n",
    "# Reshape method: Reshape the array to a different shape\n",
    "reshaped_arr = arr1.reshape(1, 5)\n",
    "print(\"Reshaped arr1:\", reshaped_arr)\n",
    "\n",
    "\n",
    "# Element-wise operations\n",
    "\n",
    "# Addition\n",
    "addition = arr1 + arr2\n",
    "print(\"arr1 + arr2:\", addition) \n",
    "\n",
    "# Subtraction\n",
    "subtraction = arr2 - arr1\n",
    "print(\"arr2 - arr1:\", subtraction) \n",
    "\n",
    "# Multiplication\n",
    "multiplication = arr1 * arr2\n",
    "print(\"arr1 * arr2:\", multiplication) \n",
    "\n",
    "# Division\n",
    "division = arr2 / arr1\n",
    "print(\"arr2 / arr1:\", division)\n",
    "\n",
    "# NumPy array methods\n",
    "\n",
    "# Sum method: Compute the sum of all elements in the array\n",
    "arr1_sum = arr1.sum()\n",
    "print(\"Sum of arr1:\", arr1_sum) \n",
    "\n",
    "# Mean method: Compute the mean (average) of the elements\n",
    "arr1_mean = arr1.mean()\n",
    "print(\"Mean of arr1:\", arr1_mean) \n",
    "\n",
    "# Max method: Find the maximum element in the array\n",
    "arr2_max = arr2.max()\n",
    "print(\"Max of arr2:\", arr2_max) \n",
    "\n",
    "# Min method: Find the minimum element in the array\n",
    "arr1_min = arr1.min()\n",
    "print(\"Min of arr1:\", arr1_min) \n",
    "\n",
    "# Indexing and Slicing\n",
    "\n",
    "# Accessing elements by index\n",
    "element_at_index_2 = arr1[2]\n",
    "print(\"Element at index 2 of arr1:\", element_at_index_2) \n",
    "\n",
    "# Slicing: Get a subset of the array\n",
    "subarray = arr1[1:4]\n",
    "print(\"Subarray of arr1:\", subarray) "
   ]
  },
  {
   "cell_type": "markdown",
   "id": "034b91ad",
   "metadata": {},
   "source": [
    "<h1 style=color:green><span style=color:red>Activity-5.</span> Numpy case studies.</h1>"
   ]
  },
  {
   "cell_type": "code",
   "execution_count": 55,
   "id": "bdee1fe2",
   "metadata": {},
   "outputs": [
    {
     "name": "stdout",
     "output_type": "stream",
     "text": [
      "Requirement already satisfied: pandas in c:\\users\\padam\\anaconda3\\lib\\site-packages (1.5.3)\n",
      "Requirement already satisfied: numpy>=1.21.0 in c:\\users\\padam\\anaconda3\\lib\\site-packages (from pandas) (1.23.5)\n",
      "Requirement already satisfied: pytz>=2020.1 in c:\\users\\padam\\anaconda3\\lib\\site-packages (from pandas) (2022.7)\n",
      "Requirement already satisfied: python-dateutil>=2.8.1 in c:\\users\\padam\\anaconda3\\lib\\site-packages (from pandas) (2.8.2)\n",
      "Requirement already satisfied: six>=1.5 in c:\\users\\padam\\anaconda3\\lib\\site-packages (from python-dateutil>=2.8.1->pandas) (1.16.0)\n"
     ]
    }
   ],
   "source": [
    "# Use the following command to install the Pandas library\n",
    "!pip install pandas"
   ]
  },
  {
   "cell_type": "code",
   "execution_count": 69,
   "id": "1b2fcebf",
   "metadata": {},
   "outputs": [],
   "source": [
    "# Import the Pandas library and give it the alias 'pd'\n",
    "import pandas as pd"
   ]
  },
  {
   "cell_type": "code",
   "execution_count": 60,
   "id": "78d9d0b5",
   "metadata": {},
   "outputs": [],
   "source": [
    "# Read a CSV file named \"train.csv\" with a comma separator and store it in the 'data' DataFrame\n",
    "data = pd.read_csv(\"train.csv\", sep=\",\")"
   ]
  },
  {
   "cell_type": "code",
   "execution_count": 62,
   "id": "d21bc96c",
   "metadata": {
    "scrolled": true
   },
   "outputs": [
    {
     "data": {
      "text/html": [
       "<div>\n",
       "<style scoped>\n",
       "    .dataframe tbody tr th:only-of-type {\n",
       "        vertical-align: middle;\n",
       "    }\n",
       "\n",
       "    .dataframe tbody tr th {\n",
       "        vertical-align: top;\n",
       "    }\n",
       "\n",
       "    .dataframe thead th {\n",
       "        text-align: right;\n",
       "    }\n",
       "</style>\n",
       "<table border=\"1\" class=\"dataframe\">\n",
       "  <thead>\n",
       "    <tr style=\"text-align: right;\">\n",
       "      <th></th>\n",
       "      <th>Employee ID</th>\n",
       "      <th>Date of Joining</th>\n",
       "      <th>Gender</th>\n",
       "      <th>Company Type</th>\n",
       "      <th>WFH Setup Available</th>\n",
       "      <th>Designation</th>\n",
       "      <th>Resource Allocation</th>\n",
       "      <th>Mental Fatigue Score</th>\n",
       "      <th>Burn Rate</th>\n",
       "    </tr>\n",
       "  </thead>\n",
       "  <tbody>\n",
       "    <tr>\n",
       "      <th>0</th>\n",
       "      <td>fffe32003000360033003200</td>\n",
       "      <td>2008-09-30</td>\n",
       "      <td>Female</td>\n",
       "      <td>Service</td>\n",
       "      <td>No</td>\n",
       "      <td>2.0</td>\n",
       "      <td>3.0</td>\n",
       "      <td>3.8</td>\n",
       "      <td>0.16</td>\n",
       "    </tr>\n",
       "    <tr>\n",
       "      <th>1</th>\n",
       "      <td>fffe3700360033003500</td>\n",
       "      <td>2008-11-30</td>\n",
       "      <td>Male</td>\n",
       "      <td>Service</td>\n",
       "      <td>Yes</td>\n",
       "      <td>1.0</td>\n",
       "      <td>2.0</td>\n",
       "      <td>5.0</td>\n",
       "      <td>0.36</td>\n",
       "    </tr>\n",
       "    <tr>\n",
       "      <th>2</th>\n",
       "      <td>fffe31003300320037003900</td>\n",
       "      <td>2008-03-10</td>\n",
       "      <td>Female</td>\n",
       "      <td>Product</td>\n",
       "      <td>Yes</td>\n",
       "      <td>2.0</td>\n",
       "      <td>NaN</td>\n",
       "      <td>5.8</td>\n",
       "      <td>0.49</td>\n",
       "    </tr>\n",
       "    <tr>\n",
       "      <th>3</th>\n",
       "      <td>fffe32003400380032003900</td>\n",
       "      <td>2008-11-03</td>\n",
       "      <td>Male</td>\n",
       "      <td>Service</td>\n",
       "      <td>Yes</td>\n",
       "      <td>1.0</td>\n",
       "      <td>1.0</td>\n",
       "      <td>2.6</td>\n",
       "      <td>0.20</td>\n",
       "    </tr>\n",
       "    <tr>\n",
       "      <th>4</th>\n",
       "      <td>fffe31003900340031003600</td>\n",
       "      <td>2008-07-24</td>\n",
       "      <td>Female</td>\n",
       "      <td>Service</td>\n",
       "      <td>No</td>\n",
       "      <td>3.0</td>\n",
       "      <td>7.0</td>\n",
       "      <td>6.9</td>\n",
       "      <td>0.52</td>\n",
       "    </tr>\n",
       "    <tr>\n",
       "      <th>...</th>\n",
       "      <td>...</td>\n",
       "      <td>...</td>\n",
       "      <td>...</td>\n",
       "      <td>...</td>\n",
       "      <td>...</td>\n",
       "      <td>...</td>\n",
       "      <td>...</td>\n",
       "      <td>...</td>\n",
       "      <td>...</td>\n",
       "    </tr>\n",
       "    <tr>\n",
       "      <th>22745</th>\n",
       "      <td>fffe31003500370039003100</td>\n",
       "      <td>2008-12-30</td>\n",
       "      <td>Female</td>\n",
       "      <td>Service</td>\n",
       "      <td>No</td>\n",
       "      <td>1.0</td>\n",
       "      <td>3.0</td>\n",
       "      <td>NaN</td>\n",
       "      <td>0.41</td>\n",
       "    </tr>\n",
       "    <tr>\n",
       "      <th>22746</th>\n",
       "      <td>fffe33003000350031003800</td>\n",
       "      <td>2008-01-19</td>\n",
       "      <td>Female</td>\n",
       "      <td>Product</td>\n",
       "      <td>Yes</td>\n",
       "      <td>3.0</td>\n",
       "      <td>6.0</td>\n",
       "      <td>6.7</td>\n",
       "      <td>0.59</td>\n",
       "    </tr>\n",
       "    <tr>\n",
       "      <th>22747</th>\n",
       "      <td>fffe390032003000</td>\n",
       "      <td>2008-11-05</td>\n",
       "      <td>Male</td>\n",
       "      <td>Service</td>\n",
       "      <td>Yes</td>\n",
       "      <td>3.0</td>\n",
       "      <td>7.0</td>\n",
       "      <td>NaN</td>\n",
       "      <td>0.72</td>\n",
       "    </tr>\n",
       "    <tr>\n",
       "      <th>22748</th>\n",
       "      <td>fffe33003300320036003900</td>\n",
       "      <td>2008-01-10</td>\n",
       "      <td>Female</td>\n",
       "      <td>Service</td>\n",
       "      <td>No</td>\n",
       "      <td>2.0</td>\n",
       "      <td>5.0</td>\n",
       "      <td>5.9</td>\n",
       "      <td>0.52</td>\n",
       "    </tr>\n",
       "    <tr>\n",
       "      <th>22749</th>\n",
       "      <td>fffe3400350031003800</td>\n",
       "      <td>2008-01-06</td>\n",
       "      <td>Male</td>\n",
       "      <td>Product</td>\n",
       "      <td>No</td>\n",
       "      <td>3.0</td>\n",
       "      <td>6.0</td>\n",
       "      <td>7.8</td>\n",
       "      <td>0.61</td>\n",
       "    </tr>\n",
       "  </tbody>\n",
       "</table>\n",
       "<p>22750 rows × 9 columns</p>\n",
       "</div>"
      ],
      "text/plain": [
       "                    Employee ID Date of Joining  Gender Company Type  \\\n",
       "0      fffe32003000360033003200      2008-09-30  Female      Service   \n",
       "1          fffe3700360033003500      2008-11-30    Male      Service   \n",
       "2      fffe31003300320037003900      2008-03-10  Female      Product   \n",
       "3      fffe32003400380032003900      2008-11-03    Male      Service   \n",
       "4      fffe31003900340031003600      2008-07-24  Female      Service   \n",
       "...                         ...             ...     ...          ...   \n",
       "22745  fffe31003500370039003100      2008-12-30  Female      Service   \n",
       "22746  fffe33003000350031003800      2008-01-19  Female      Product   \n",
       "22747          fffe390032003000      2008-11-05    Male      Service   \n",
       "22748  fffe33003300320036003900      2008-01-10  Female      Service   \n",
       "22749      fffe3400350031003800      2008-01-06    Male      Product   \n",
       "\n",
       "      WFH Setup Available  Designation  Resource Allocation  \\\n",
       "0                      No          2.0                  3.0   \n",
       "1                     Yes          1.0                  2.0   \n",
       "2                     Yes          2.0                  NaN   \n",
       "3                     Yes          1.0                  1.0   \n",
       "4                      No          3.0                  7.0   \n",
       "...                   ...          ...                  ...   \n",
       "22745                  No          1.0                  3.0   \n",
       "22746                 Yes          3.0                  6.0   \n",
       "22747                 Yes          3.0                  7.0   \n",
       "22748                  No          2.0                  5.0   \n",
       "22749                  No          3.0                  6.0   \n",
       "\n",
       "       Mental Fatigue Score  Burn Rate  \n",
       "0                       3.8       0.16  \n",
       "1                       5.0       0.36  \n",
       "2                       5.8       0.49  \n",
       "3                       2.6       0.20  \n",
       "4                       6.9       0.52  \n",
       "...                     ...        ...  \n",
       "22745                   NaN       0.41  \n",
       "22746                   6.7       0.59  \n",
       "22747                   NaN       0.72  \n",
       "22748                   5.9       0.52  \n",
       "22749                   7.8       0.61  \n",
       "\n",
       "[22750 rows x 9 columns]"
      ]
     },
     "execution_count": 62,
     "metadata": {},
     "output_type": "execute_result"
    }
   ],
   "source": [
    "data #Print the data"
   ]
  },
  {
   "cell_type": "code",
   "execution_count": 70,
   "id": "14de0e1b",
   "metadata": {
    "scrolled": true
   },
   "outputs": [
    {
     "data": {
      "text/html": [
       "<div>\n",
       "<style scoped>\n",
       "    .dataframe tbody tr th:only-of-type {\n",
       "        vertical-align: middle;\n",
       "    }\n",
       "\n",
       "    .dataframe tbody tr th {\n",
       "        vertical-align: top;\n",
       "    }\n",
       "\n",
       "    .dataframe thead th {\n",
       "        text-align: right;\n",
       "    }\n",
       "</style>\n",
       "<table border=\"1\" class=\"dataframe\">\n",
       "  <thead>\n",
       "    <tr style=\"text-align: right;\">\n",
       "      <th></th>\n",
       "      <th>Employee ID</th>\n",
       "      <th>Date of Joining</th>\n",
       "      <th>Gender</th>\n",
       "      <th>Company Type</th>\n",
       "      <th>WFH Setup Available</th>\n",
       "      <th>Designation</th>\n",
       "      <th>Resource Allocation</th>\n",
       "      <th>Mental Fatigue Score</th>\n",
       "      <th>Burn Rate</th>\n",
       "    </tr>\n",
       "  </thead>\n",
       "  <tbody>\n",
       "    <tr>\n",
       "      <th>0</th>\n",
       "      <td>fffe32003000360033003200</td>\n",
       "      <td>2008-09-30</td>\n",
       "      <td>Female</td>\n",
       "      <td>Service</td>\n",
       "      <td>No</td>\n",
       "      <td>2.0</td>\n",
       "      <td>3.0</td>\n",
       "      <td>3.8</td>\n",
       "      <td>0.16</td>\n",
       "    </tr>\n",
       "    <tr>\n",
       "      <th>1</th>\n",
       "      <td>fffe3700360033003500</td>\n",
       "      <td>2008-11-30</td>\n",
       "      <td>Male</td>\n",
       "      <td>Service</td>\n",
       "      <td>Yes</td>\n",
       "      <td>1.0</td>\n",
       "      <td>2.0</td>\n",
       "      <td>5.0</td>\n",
       "      <td>0.36</td>\n",
       "    </tr>\n",
       "    <tr>\n",
       "      <th>2</th>\n",
       "      <td>fffe31003300320037003900</td>\n",
       "      <td>2008-03-10</td>\n",
       "      <td>Female</td>\n",
       "      <td>Product</td>\n",
       "      <td>Yes</td>\n",
       "      <td>2.0</td>\n",
       "      <td>NaN</td>\n",
       "      <td>5.8</td>\n",
       "      <td>0.49</td>\n",
       "    </tr>\n",
       "    <tr>\n",
       "      <th>3</th>\n",
       "      <td>fffe32003400380032003900</td>\n",
       "      <td>2008-11-03</td>\n",
       "      <td>Male</td>\n",
       "      <td>Service</td>\n",
       "      <td>Yes</td>\n",
       "      <td>1.0</td>\n",
       "      <td>1.0</td>\n",
       "      <td>2.6</td>\n",
       "      <td>0.20</td>\n",
       "    </tr>\n",
       "    <tr>\n",
       "      <th>4</th>\n",
       "      <td>fffe31003900340031003600</td>\n",
       "      <td>2008-07-24</td>\n",
       "      <td>Female</td>\n",
       "      <td>Service</td>\n",
       "      <td>No</td>\n",
       "      <td>3.0</td>\n",
       "      <td>7.0</td>\n",
       "      <td>6.9</td>\n",
       "      <td>0.52</td>\n",
       "    </tr>\n",
       "    <tr>\n",
       "      <th>5</th>\n",
       "      <td>fffe3300350037003500</td>\n",
       "      <td>2008-11-26</td>\n",
       "      <td>Male</td>\n",
       "      <td>Product</td>\n",
       "      <td>Yes</td>\n",
       "      <td>2.0</td>\n",
       "      <td>4.0</td>\n",
       "      <td>3.6</td>\n",
       "      <td>0.29</td>\n",
       "    </tr>\n",
       "    <tr>\n",
       "      <th>6</th>\n",
       "      <td>fffe33003300340039003100</td>\n",
       "      <td>2008-01-02</td>\n",
       "      <td>Female</td>\n",
       "      <td>Service</td>\n",
       "      <td>No</td>\n",
       "      <td>3.0</td>\n",
       "      <td>6.0</td>\n",
       "      <td>7.9</td>\n",
       "      <td>0.62</td>\n",
       "    </tr>\n",
       "    <tr>\n",
       "      <th>7</th>\n",
       "      <td>fffe32003600320037003400</td>\n",
       "      <td>2008-10-31</td>\n",
       "      <td>Female</td>\n",
       "      <td>Service</td>\n",
       "      <td>Yes</td>\n",
       "      <td>2.0</td>\n",
       "      <td>4.0</td>\n",
       "      <td>4.4</td>\n",
       "      <td>0.33</td>\n",
       "    </tr>\n",
       "    <tr>\n",
       "      <th>8</th>\n",
       "      <td>fffe32003200300034003700</td>\n",
       "      <td>2008-12-27</td>\n",
       "      <td>Female</td>\n",
       "      <td>Service</td>\n",
       "      <td>No</td>\n",
       "      <td>3.0</td>\n",
       "      <td>6.0</td>\n",
       "      <td>NaN</td>\n",
       "      <td>0.56</td>\n",
       "    </tr>\n",
       "    <tr>\n",
       "      <th>9</th>\n",
       "      <td>fffe31003600320030003200</td>\n",
       "      <td>2008-03-09</td>\n",
       "      <td>Female</td>\n",
       "      <td>Product</td>\n",
       "      <td>No</td>\n",
       "      <td>3.0</td>\n",
       "      <td>6.0</td>\n",
       "      <td>NaN</td>\n",
       "      <td>0.67</td>\n",
       "    </tr>\n",
       "  </tbody>\n",
       "</table>\n",
       "</div>"
      ],
      "text/plain": [
       "                Employee ID Date of Joining  Gender Company Type  \\\n",
       "0  fffe32003000360033003200      2008-09-30  Female      Service   \n",
       "1      fffe3700360033003500      2008-11-30    Male      Service   \n",
       "2  fffe31003300320037003900      2008-03-10  Female      Product   \n",
       "3  fffe32003400380032003900      2008-11-03    Male      Service   \n",
       "4  fffe31003900340031003600      2008-07-24  Female      Service   \n",
       "5      fffe3300350037003500      2008-11-26    Male      Product   \n",
       "6  fffe33003300340039003100      2008-01-02  Female      Service   \n",
       "7  fffe32003600320037003400      2008-10-31  Female      Service   \n",
       "8  fffe32003200300034003700      2008-12-27  Female      Service   \n",
       "9  fffe31003600320030003200      2008-03-09  Female      Product   \n",
       "\n",
       "  WFH Setup Available  Designation  Resource Allocation  Mental Fatigue Score  \\\n",
       "0                  No          2.0                  3.0                   3.8   \n",
       "1                 Yes          1.0                  2.0                   5.0   \n",
       "2                 Yes          2.0                  NaN                   5.8   \n",
       "3                 Yes          1.0                  1.0                   2.6   \n",
       "4                  No          3.0                  7.0                   6.9   \n",
       "5                 Yes          2.0                  4.0                   3.6   \n",
       "6                  No          3.0                  6.0                   7.9   \n",
       "7                 Yes          2.0                  4.0                   4.4   \n",
       "8                  No          3.0                  6.0                   NaN   \n",
       "9                  No          3.0                  6.0                   NaN   \n",
       "\n",
       "   Burn Rate  \n",
       "0       0.16  \n",
       "1       0.36  \n",
       "2       0.49  \n",
       "3       0.20  \n",
       "4       0.52  \n",
       "5       0.29  \n",
       "6       0.62  \n",
       "7       0.33  \n",
       "8       0.56  \n",
       "9       0.67  "
      ]
     },
     "execution_count": 70,
     "metadata": {},
     "output_type": "execute_result"
    }
   ],
   "source": [
    "# Display the first 10 rows of the 'data' DataFrame\n",
    "data.head(10)"
   ]
  },
  {
   "cell_type": "code",
   "execution_count": 71,
   "id": "71bed37e",
   "metadata": {},
   "outputs": [
    {
     "data": {
      "text/html": [
       "<div>\n",
       "<style scoped>\n",
       "    .dataframe tbody tr th:only-of-type {\n",
       "        vertical-align: middle;\n",
       "    }\n",
       "\n",
       "    .dataframe tbody tr th {\n",
       "        vertical-align: top;\n",
       "    }\n",
       "\n",
       "    .dataframe thead th {\n",
       "        text-align: right;\n",
       "    }\n",
       "</style>\n",
       "<table border=\"1\" class=\"dataframe\">\n",
       "  <thead>\n",
       "    <tr style=\"text-align: right;\">\n",
       "      <th></th>\n",
       "      <th>Employee ID</th>\n",
       "      <th>Date of Joining</th>\n",
       "      <th>Gender</th>\n",
       "      <th>Company Type</th>\n",
       "      <th>WFH Setup Available</th>\n",
       "      <th>Designation</th>\n",
       "      <th>Resource Allocation</th>\n",
       "      <th>Mental Fatigue Score</th>\n",
       "      <th>Burn Rate</th>\n",
       "    </tr>\n",
       "  </thead>\n",
       "  <tbody>\n",
       "    <tr>\n",
       "      <th>22740</th>\n",
       "      <td>fffe33003300380031003100</td>\n",
       "      <td>2008-09-05</td>\n",
       "      <td>Female</td>\n",
       "      <td>Product</td>\n",
       "      <td>No</td>\n",
       "      <td>3.0</td>\n",
       "      <td>6.0</td>\n",
       "      <td>7.3</td>\n",
       "      <td>0.55</td>\n",
       "    </tr>\n",
       "    <tr>\n",
       "      <th>22741</th>\n",
       "      <td>fffe31003600350034003800</td>\n",
       "      <td>2008-01-07</td>\n",
       "      <td>Male</td>\n",
       "      <td>Product</td>\n",
       "      <td>No</td>\n",
       "      <td>2.0</td>\n",
       "      <td>5.0</td>\n",
       "      <td>6.0</td>\n",
       "      <td>NaN</td>\n",
       "    </tr>\n",
       "    <tr>\n",
       "      <th>22742</th>\n",
       "      <td>fffe33003200310039003000</td>\n",
       "      <td>2008-07-28</td>\n",
       "      <td>Male</td>\n",
       "      <td>Product</td>\n",
       "      <td>No</td>\n",
       "      <td>3.0</td>\n",
       "      <td>5.0</td>\n",
       "      <td>8.1</td>\n",
       "      <td>0.69</td>\n",
       "    </tr>\n",
       "    <tr>\n",
       "      <th>22743</th>\n",
       "      <td>fffe3300390030003600</td>\n",
       "      <td>2008-12-15</td>\n",
       "      <td>Female</td>\n",
       "      <td>Product</td>\n",
       "      <td>Yes</td>\n",
       "      <td>1.0</td>\n",
       "      <td>3.0</td>\n",
       "      <td>6.0</td>\n",
       "      <td>0.48</td>\n",
       "    </tr>\n",
       "    <tr>\n",
       "      <th>22744</th>\n",
       "      <td>fffe32003500370033003200</td>\n",
       "      <td>2008-05-27</td>\n",
       "      <td>Male</td>\n",
       "      <td>Product</td>\n",
       "      <td>No</td>\n",
       "      <td>3.0</td>\n",
       "      <td>7.0</td>\n",
       "      <td>6.2</td>\n",
       "      <td>0.54</td>\n",
       "    </tr>\n",
       "    <tr>\n",
       "      <th>22745</th>\n",
       "      <td>fffe31003500370039003100</td>\n",
       "      <td>2008-12-30</td>\n",
       "      <td>Female</td>\n",
       "      <td>Service</td>\n",
       "      <td>No</td>\n",
       "      <td>1.0</td>\n",
       "      <td>3.0</td>\n",
       "      <td>NaN</td>\n",
       "      <td>0.41</td>\n",
       "    </tr>\n",
       "    <tr>\n",
       "      <th>22746</th>\n",
       "      <td>fffe33003000350031003800</td>\n",
       "      <td>2008-01-19</td>\n",
       "      <td>Female</td>\n",
       "      <td>Product</td>\n",
       "      <td>Yes</td>\n",
       "      <td>3.0</td>\n",
       "      <td>6.0</td>\n",
       "      <td>6.7</td>\n",
       "      <td>0.59</td>\n",
       "    </tr>\n",
       "    <tr>\n",
       "      <th>22747</th>\n",
       "      <td>fffe390032003000</td>\n",
       "      <td>2008-11-05</td>\n",
       "      <td>Male</td>\n",
       "      <td>Service</td>\n",
       "      <td>Yes</td>\n",
       "      <td>3.0</td>\n",
       "      <td>7.0</td>\n",
       "      <td>NaN</td>\n",
       "      <td>0.72</td>\n",
       "    </tr>\n",
       "    <tr>\n",
       "      <th>22748</th>\n",
       "      <td>fffe33003300320036003900</td>\n",
       "      <td>2008-01-10</td>\n",
       "      <td>Female</td>\n",
       "      <td>Service</td>\n",
       "      <td>No</td>\n",
       "      <td>2.0</td>\n",
       "      <td>5.0</td>\n",
       "      <td>5.9</td>\n",
       "      <td>0.52</td>\n",
       "    </tr>\n",
       "    <tr>\n",
       "      <th>22749</th>\n",
       "      <td>fffe3400350031003800</td>\n",
       "      <td>2008-01-06</td>\n",
       "      <td>Male</td>\n",
       "      <td>Product</td>\n",
       "      <td>No</td>\n",
       "      <td>3.0</td>\n",
       "      <td>6.0</td>\n",
       "      <td>7.8</td>\n",
       "      <td>0.61</td>\n",
       "    </tr>\n",
       "  </tbody>\n",
       "</table>\n",
       "</div>"
      ],
      "text/plain": [
       "                    Employee ID Date of Joining  Gender Company Type  \\\n",
       "22740  fffe33003300380031003100      2008-09-05  Female      Product   \n",
       "22741  fffe31003600350034003800      2008-01-07    Male      Product   \n",
       "22742  fffe33003200310039003000      2008-07-28    Male      Product   \n",
       "22743      fffe3300390030003600      2008-12-15  Female      Product   \n",
       "22744  fffe32003500370033003200      2008-05-27    Male      Product   \n",
       "22745  fffe31003500370039003100      2008-12-30  Female      Service   \n",
       "22746  fffe33003000350031003800      2008-01-19  Female      Product   \n",
       "22747          fffe390032003000      2008-11-05    Male      Service   \n",
       "22748  fffe33003300320036003900      2008-01-10  Female      Service   \n",
       "22749      fffe3400350031003800      2008-01-06    Male      Product   \n",
       "\n",
       "      WFH Setup Available  Designation  Resource Allocation  \\\n",
       "22740                  No          3.0                  6.0   \n",
       "22741                  No          2.0                  5.0   \n",
       "22742                  No          3.0                  5.0   \n",
       "22743                 Yes          1.0                  3.0   \n",
       "22744                  No          3.0                  7.0   \n",
       "22745                  No          1.0                  3.0   \n",
       "22746                 Yes          3.0                  6.0   \n",
       "22747                 Yes          3.0                  7.0   \n",
       "22748                  No          2.0                  5.0   \n",
       "22749                  No          3.0                  6.0   \n",
       "\n",
       "       Mental Fatigue Score  Burn Rate  \n",
       "22740                   7.3       0.55  \n",
       "22741                   6.0        NaN  \n",
       "22742                   8.1       0.69  \n",
       "22743                   6.0       0.48  \n",
       "22744                   6.2       0.54  \n",
       "22745                   NaN       0.41  \n",
       "22746                   6.7       0.59  \n",
       "22747                   NaN       0.72  \n",
       "22748                   5.9       0.52  \n",
       "22749                   7.8       0.61  "
      ]
     },
     "execution_count": 71,
     "metadata": {},
     "output_type": "execute_result"
    }
   ],
   "source": [
    "# Display the last 10 rows of the 'data' DataFrame\n",
    "data.tail(10)\n"
   ]
  },
  {
   "cell_type": "code",
   "execution_count": 72,
   "id": "15d5b316",
   "metadata": {
    "scrolled": true
   },
   "outputs": [
    {
     "name": "stdout",
     "output_type": "stream",
     "text": [
      "Index(['Employee ID', 'Date of Joining', 'Gender', 'Company Type',\n",
      "       'WFH Setup Available', 'Designation', 'Resource Allocation',\n",
      "       'Mental Fatigue Score', 'Burn Rate'],\n",
      "      dtype='object')\n"
     ]
    }
   ],
   "source": [
    "# Print the column names of the 'data' DataFrame\n",
    "print(data.columns)"
   ]
  },
  {
   "cell_type": "code",
   "execution_count": 66,
   "id": "9c05a0b5",
   "metadata": {},
   "outputs": [
    {
     "name": "stdout",
     "output_type": "stream",
     "text": [
      "(22750, 9)\n"
     ]
    }
   ],
   "source": [
    "# Print the shape (number of rows and columns) of the 'data' DataFrame\n",
    "print(data.shape)"
   ]
  },
  {
   "cell_type": "code",
   "execution_count": 73,
   "id": "5e49fa60",
   "metadata": {},
   "outputs": [
    {
     "name": "stdout",
     "output_type": "stream",
     "text": [
      "<class 'pandas.core.frame.DataFrame'>\n",
      "RangeIndex: 22750 entries, 0 to 22749\n",
      "Data columns (total 9 columns):\n",
      " #   Column                Non-Null Count  Dtype  \n",
      "---  ------                --------------  -----  \n",
      " 0   Employee ID           22750 non-null  object \n",
      " 1   Date of Joining       22750 non-null  object \n",
      " 2   Gender                22750 non-null  object \n",
      " 3   Company Type          22750 non-null  object \n",
      " 4   WFH Setup Available   22750 non-null  object \n",
      " 5   Designation           22750 non-null  float64\n",
      " 6   Resource Allocation   21369 non-null  float64\n",
      " 7   Mental Fatigue Score  20633 non-null  float64\n",
      " 8   Burn Rate             21626 non-null  float64\n",
      "dtypes: float64(4), object(5)\n",
      "memory usage: 1.6+ MB\n",
      "None\n"
     ]
    }
   ],
   "source": [
    "# Print information about the 'data' DataFrame, including data types, non-null counts, and memory usage\n",
    "print(data.info())"
   ]
  },
  {
   "cell_type": "code",
   "execution_count": 74,
   "id": "9f2e5ab7",
   "metadata": {},
   "outputs": [
    {
     "name": "stdout",
     "output_type": "stream",
     "text": [
      "        Designation  Resource Allocation  Mental Fatigue Score     Burn Rate\n",
      "count  22750.000000         21369.000000          20633.000000  21626.000000\n",
      "mean       2.178725             4.481398              5.728188      0.452005\n",
      "std        1.135145             2.047211              1.920839      0.198226\n",
      "min        0.000000             1.000000              0.000000      0.000000\n",
      "25%        1.000000             3.000000              4.600000      0.310000\n",
      "50%        2.000000             4.000000              5.900000      0.450000\n",
      "75%        3.000000             6.000000              7.100000      0.590000\n",
      "max        5.000000            10.000000             10.000000      1.000000\n"
     ]
    }
   ],
   "source": [
    "# Print a summary of statistics for the 'data' DataFrame\n",
    "print(data.describe())"
   ]
  },
  {
   "cell_type": "markdown",
   "id": "d7527033",
   "metadata": {},
   "source": [
    "<h1 style=color:green><span style=color:red>Activity-6.</span> Understanding Pandas series and dataframe.</h1>"
   ]
  },
  {
   "cell_type": "code",
   "execution_count": 75,
   "id": "fc6e79ab",
   "metadata": {},
   "outputs": [
    {
     "name": "stdout",
     "output_type": "stream",
     "text": [
      "0    10\n",
      "1    20\n",
      "2    30\n",
      "3    40\n",
      "4    50\n",
      "dtype: int64\n"
     ]
    }
   ],
   "source": [
    "# Import the Pandas library\n",
    "import pandas as pd\n",
    "\n",
    "# Create a simple Series from a list of values\n",
    "data = [10, 20, 30, 40, 50]\n",
    "series = pd.Series(data)\n",
    "\n",
    "# Display the Series\n",
    "print(series)"
   ]
  },
  {
   "cell_type": "code",
   "execution_count": 76,
   "id": "e143daf2",
   "metadata": {},
   "outputs": [
    {
     "name": "stdout",
     "output_type": "stream",
     "text": [
      "<class 'pandas.core.series.Series'>\n"
     ]
    }
   ],
   "source": [
    "print(type(series))"
   ]
  },
  {
   "cell_type": "code",
   "execution_count": 77,
   "id": "43ed0c5b",
   "metadata": {
    "scrolled": true
   },
   "outputs": [
    {
     "name": "stdout",
     "output_type": "stream",
     "text": [
      "   Column1 Column2\n",
      "0        1       A\n",
      "1        2       B\n",
      "2        3       C\n",
      "3        4       D\n",
      "4        5       E\n"
     ]
    }
   ],
   "source": [
    "import pandas as pd\n",
    "\n",
    "# Create two Series\n",
    "series1 = pd.Series([1, 2, 3, 4, 5], name='Series1')\n",
    "series2 = pd.Series(['A', 'B', 'C', 'D', 'E'], name='Series2')\n",
    "\n",
    "# Create a DataFrame by combining the Series\n",
    "df = pd.DataFrame({'Column1': series1, 'Column2': series2})\n",
    "\n",
    "# Display the DataFrame\n",
    "print(df)\n"
   ]
  },
  {
   "cell_type": "code",
   "execution_count": 78,
   "id": "bc61b741",
   "metadata": {},
   "outputs": [
    {
     "name": "stdout",
     "output_type": "stream",
     "text": [
      "      Name  Age       Job\n",
      "0    Alice   25  Engineer\n",
      "1      Bob   30   Manager\n",
      "2  Charlie   35  Designer\n"
     ]
    }
   ],
   "source": [
    "import pandas as pd\n",
    "\n",
    "# Create a DataFrame\n",
    "data = {'Name': ['Alice', 'Bob', 'Charlie'],\n",
    "        'Age': [25, 30, 35]}\n",
    "df = pd.DataFrame(data)\n",
    "\n",
    "# Create a new Series\n",
    "new_series = pd.Series(['Engineer', 'Manager', 'Designer'], name='Job')\n",
    "\n",
    "# Add the new Series to the DataFrame\n",
    "df['Job'] = new_series\n",
    "\n",
    "# Display the updated DataFrame\n",
    "print(df)\n"
   ]
  },
  {
   "cell_type": "code",
   "execution_count": 79,
   "id": "1d0af681",
   "metadata": {
    "scrolled": true
   },
   "outputs": [
    {
     "name": "stdout",
     "output_type": "stream",
     "text": [
      "      Name  Age       Job\n",
      "0    Alice   25  Engineer\n",
      "1      Bob   30   Manager\n",
      "2  Charlie   35       NaN\n"
     ]
    }
   ],
   "source": [
    "import pandas as pd\n",
    "\n",
    "# Create a DataFrame\n",
    "data = {'Name': ['Alice', 'Bob', 'Charlie'],\n",
    "        'Age': [25, 30, 35]}\n",
    "df = pd.DataFrame(data)\n",
    "\n",
    "# Create a new Series\n",
    "new_series = pd.Series(['Engineer', 'Manager'], name='Job')\n",
    "\n",
    "# Add the new Series to the DataFrame\n",
    "df['Job'] = new_series\n",
    "\n",
    "# Display the updated DataFrame\n",
    "print(df)\n"
   ]
  },
  {
   "cell_type": "code",
   "execution_count": 81,
   "id": "95b6f919",
   "metadata": {
    "scrolled": true
   },
   "outputs": [
    {
     "data": {
      "image/png": "[encoded data removed]",
      "text/plain": [
       "<Figure size 800x400 with 1 Axes>"
      ]
     },
     "metadata": {},
     "output_type": "display_data"
    }
   ],
   "source": [
    "import pandas as pd\n",
    "import matplotlib.pyplot as plt\n",
    "\n",
    "# Create a DataFrame\n",
    "data = {'Name': ['Alice', 'Bob', 'Charlie'],\n",
    "        'Age': [25, 30, 35]}\n",
    "df = pd.DataFrame(data)\n",
    "\n",
    "# Create a bar plot using the 'Name' and 'Age' columns\n",
    "plt.figure(figsize=(8, 4))  # Set the figure size\n",
    "plt.bar(df['Name'], df['Age'])  # Create a bar plot\n",
    "plt.title('Age of Individuals')  # Set the plot title\n",
    "plt.xlabel('Name')  # Label for the x-axis\n",
    "plt.ylabel('Age')  # Label for the y-axis\n",
    "plt.grid(True)  # Add grid lines\n",
    "\n",
    "# Show the plot\n",
    "plt.show()  # Display the plot\n"
   ]
  },
  {
   "cell_type": "markdown",
   "id": "c2de872d",
   "metadata": {},
   "source": [
    "<h1 style=color:green><span style=color:red>Activity-7.</span> Pandas ingestion of data from csv, json, html, excel, text files.</h1>"
   ]
  },
  {
   "cell_type": "code",
   "execution_count": 86,
   "id": "1b627196",
   "metadata": {},
   "outputs": [
    {
     "data": {
      "text/html": [
       "<div>\n",
       "<style scoped>\n",
       "    .dataframe tbody tr th:only-of-type {\n",
       "        vertical-align: middle;\n",
       "    }\n",
       "\n",
       "    .dataframe tbody tr th {\n",
       "        vertical-align: top;\n",
       "    }\n",
       "\n",
       "    .dataframe thead th {\n",
       "        text-align: right;\n",
       "    }\n",
       "</style>\n",
       "<table border=\"1\" class=\"dataframe\">\n",
       "  <thead>\n",
       "    <tr style=\"text-align: right;\">\n",
       "      <th></th>\n",
       "      <th>Education</th>\n",
       "      <th>JoiningYear</th>\n",
       "      <th>City</th>\n",
       "      <th>PaymentTier</th>\n",
       "      <th>Age</th>\n",
       "      <th>Gender</th>\n",
       "      <th>EverBenched</th>\n",
       "      <th>ExperienceInCurrentDomain</th>\n",
       "      <th>LeaveOrNot</th>\n",
       "    </tr>\n",
       "  </thead>\n",
       "  <tbody>\n",
       "    <tr>\n",
       "      <th>0</th>\n",
       "      <td>Bachelors</td>\n",
       "      <td>2017</td>\n",
       "      <td>Bangalore</td>\n",
       "      <td>3</td>\n",
       "      <td>34</td>\n",
       "      <td>Male</td>\n",
       "      <td>No</td>\n",
       "      <td>0</td>\n",
       "      <td>0</td>\n",
       "    </tr>\n",
       "    <tr>\n",
       "      <th>1</th>\n",
       "      <td>Bachelors</td>\n",
       "      <td>2013</td>\n",
       "      <td>Pune</td>\n",
       "      <td>1</td>\n",
       "      <td>28</td>\n",
       "      <td>Female</td>\n",
       "      <td>No</td>\n",
       "      <td>3</td>\n",
       "      <td>1</td>\n",
       "    </tr>\n",
       "    <tr>\n",
       "      <th>2</th>\n",
       "      <td>Bachelors</td>\n",
       "      <td>2014</td>\n",
       "      <td>New Delhi</td>\n",
       "      <td>3</td>\n",
       "      <td>38</td>\n",
       "      <td>Female</td>\n",
       "      <td>No</td>\n",
       "      <td>2</td>\n",
       "      <td>0</td>\n",
       "    </tr>\n",
       "    <tr>\n",
       "      <th>3</th>\n",
       "      <td>Masters</td>\n",
       "      <td>2016</td>\n",
       "      <td>Bangalore</td>\n",
       "      <td>3</td>\n",
       "      <td>27</td>\n",
       "      <td>Male</td>\n",
       "      <td>No</td>\n",
       "      <td>5</td>\n",
       "      <td>1</td>\n",
       "    </tr>\n",
       "    <tr>\n",
       "      <th>4</th>\n",
       "      <td>Masters</td>\n",
       "      <td>2017</td>\n",
       "      <td>Pune</td>\n",
       "      <td>3</td>\n",
       "      <td>24</td>\n",
       "      <td>Male</td>\n",
       "      <td>Yes</td>\n",
       "      <td>2</td>\n",
       "      <td>1</td>\n",
       "    </tr>\n",
       "    <tr>\n",
       "      <th>...</th>\n",
       "      <td>...</td>\n",
       "      <td>...</td>\n",
       "      <td>...</td>\n",
       "      <td>...</td>\n",
       "      <td>...</td>\n",
       "      <td>...</td>\n",
       "      <td>...</td>\n",
       "      <td>...</td>\n",
       "      <td>...</td>\n",
       "    </tr>\n",
       "    <tr>\n",
       "      <th>4648</th>\n",
       "      <td>Bachelors</td>\n",
       "      <td>2013</td>\n",
       "      <td>Bangalore</td>\n",
       "      <td>3</td>\n",
       "      <td>26</td>\n",
       "      <td>Female</td>\n",
       "      <td>No</td>\n",
       "      <td>4</td>\n",
       "      <td>0</td>\n",
       "    </tr>\n",
       "    <tr>\n",
       "      <th>4649</th>\n",
       "      <td>Masters</td>\n",
       "      <td>2013</td>\n",
       "      <td>Pune</td>\n",
       "      <td>2</td>\n",
       "      <td>37</td>\n",
       "      <td>Male</td>\n",
       "      <td>No</td>\n",
       "      <td>2</td>\n",
       "      <td>1</td>\n",
       "    </tr>\n",
       "    <tr>\n",
       "      <th>4650</th>\n",
       "      <td>Masters</td>\n",
       "      <td>2018</td>\n",
       "      <td>New Delhi</td>\n",
       "      <td>3</td>\n",
       "      <td>27</td>\n",
       "      <td>Male</td>\n",
       "      <td>No</td>\n",
       "      <td>5</td>\n",
       "      <td>1</td>\n",
       "    </tr>\n",
       "    <tr>\n",
       "      <th>4651</th>\n",
       "      <td>Bachelors</td>\n",
       "      <td>2012</td>\n",
       "      <td>Bangalore</td>\n",
       "      <td>3</td>\n",
       "      <td>30</td>\n",
       "      <td>Male</td>\n",
       "      <td>Yes</td>\n",
       "      <td>2</td>\n",
       "      <td>0</td>\n",
       "    </tr>\n",
       "    <tr>\n",
       "      <th>4652</th>\n",
       "      <td>Bachelors</td>\n",
       "      <td>2015</td>\n",
       "      <td>Bangalore</td>\n",
       "      <td>3</td>\n",
       "      <td>33</td>\n",
       "      <td>Male</td>\n",
       "      <td>Yes</td>\n",
       "      <td>4</td>\n",
       "      <td>0</td>\n",
       "    </tr>\n",
       "  </tbody>\n",
       "</table>\n",
       "<p>4653 rows × 9 columns</p>\n",
       "</div>"
      ],
      "text/plain": [
       "      Education  JoiningYear       City  PaymentTier  Age  Gender EverBenched  \\\n",
       "0     Bachelors         2017  Bangalore            3   34    Male          No   \n",
       "1     Bachelors         2013       Pune            1   28  Female          No   \n",
       "2     Bachelors         2014  New Delhi            3   38  Female          No   \n",
       "3       Masters         2016  Bangalore            3   27    Male          No   \n",
       "4       Masters         2017       Pune            3   24    Male         Yes   \n",
       "...         ...          ...        ...          ...  ...     ...         ...   \n",
       "4648  Bachelors         2013  Bangalore            3   26  Female          No   \n",
       "4649    Masters         2013       Pune            2   37    Male          No   \n",
       "4650    Masters         2018  New Delhi            3   27    Male          No   \n",
       "4651  Bachelors         2012  Bangalore            3   30    Male         Yes   \n",
       "4652  Bachelors         2015  Bangalore            3   33    Male         Yes   \n",
       "\n",
       "      ExperienceInCurrentDomain  LeaveOrNot  \n",
       "0                             0           0  \n",
       "1                             3           1  \n",
       "2                             2           0  \n",
       "3                             5           1  \n",
       "4                             2           1  \n",
       "...                         ...         ...  \n",
       "4648                          4           0  \n",
       "4649                          2           1  \n",
       "4650                          5           1  \n",
       "4651                          2           0  \n",
       "4652                          4           0  \n",
       "\n",
       "[4653 rows x 9 columns]"
      ]
     },
     "execution_count": 86,
     "metadata": {},
     "output_type": "execute_result"
    }
   ],
   "source": [
    "# Step 1: Import the Pandas library\n",
    "import pandas as pd\n",
    "\n",
    "# Step 2: Read the CSV file into a DataFrame\n",
    "# We use the `pd.read_csv()` function to read the data from the \"Employee.csv\" file\n",
    "# and store it in a Pandas DataFrame named 'df'.\n",
    "df = pd.read_csv('Employee.csv')\n",
    "\n",
    "# Step 3: Display the DataFrame\n",
    "# We can now display the contents of the DataFrame 'df', which contains the data from the CSV file.\n",
    "df\n"
   ]
  },
  {
   "cell_type": "code",
   "execution_count": 88,
   "id": "e85b15dc",
   "metadata": {},
   "outputs": [
    {
     "data": {
      "text/html": [
       "<div>\n",
       "<style scoped>\n",
       "    .dataframe tbody tr th:only-of-type {\n",
       "        vertical-align: middle;\n",
       "    }\n",
       "\n",
       "    .dataframe tbody tr th {\n",
       "        vertical-align: top;\n",
       "    }\n",
       "\n",
       "    .dataframe thead th {\n",
       "        text-align: right;\n",
       "    }\n",
       "</style>\n",
       "<table border=\"1\" class=\"dataframe\">\n",
       "  <thead>\n",
       "    <tr style=\"text-align: right;\">\n",
       "      <th></th>\n",
       "      <th>Employee ID</th>\n",
       "      <th>Burn Rate</th>\n",
       "    </tr>\n",
       "  </thead>\n",
       "  <tbody>\n",
       "    <tr>\n",
       "      <th>0</th>\n",
       "      <td>fffe32003000360033003200</td>\n",
       "      <td>0.16</td>\n",
       "    </tr>\n",
       "    <tr>\n",
       "      <th>1</th>\n",
       "      <td>fffe3700360033003500</td>\n",
       "      <td>0.36</td>\n",
       "    </tr>\n",
       "    <tr>\n",
       "      <th>2</th>\n",
       "      <td>fffe31003300320037003900</td>\n",
       "      <td>0.49</td>\n",
       "    </tr>\n",
       "    <tr>\n",
       "      <th>3</th>\n",
       "      <td>fffe32003400380032003900</td>\n",
       "      <td>0.20</td>\n",
       "    </tr>\n",
       "    <tr>\n",
       "      <th>4</th>\n",
       "      <td>fffe31003900340031003600</td>\n",
       "      <td>0.52</td>\n",
       "    </tr>\n",
       "  </tbody>\n",
       "</table>\n",
       "</div>"
      ],
      "text/plain": [
       "                Employee ID  Burn Rate\n",
       "0  fffe32003000360033003200       0.16\n",
       "1      fffe3700360033003500       0.36\n",
       "2  fffe31003300320037003900       0.49\n",
       "3  fffe32003400380032003900       0.20\n",
       "4  fffe31003900340031003600       0.52"
      ]
     },
     "execution_count": 88,
     "metadata": {},
     "output_type": "execute_result"
    }
   ],
   "source": [
    "# Step 1: Import the Pandas library\n",
    "import pandas as pd\n",
    "\n",
    "# Step 2: Read the Excel file into a DataFrame\n",
    "# We use the `pd.read_excel()` function to read the data from the \"sample_submission_excel.xlsx\" Excel file\n",
    "# and store it in a Pandas DataFrame named 'df'.\n",
    "df = pd.read_excel('sample_submission_excel.xlsx')\n",
    "\n",
    "# Step 3: Display the DataFrame\n",
    "# We can now display the contents of the DataFrame 'df', which contains the data from the Excel file.\n",
    "df\n"
   ]
  },
  {
   "cell_type": "code",
   "execution_count": 93,
   "id": "c1670a3b",
   "metadata": {},
   "outputs": [
    {
     "name": "stdout",
     "output_type": "stream",
     "text": [
      "     name  age\n",
      "0   Padam   21\n",
      "1  Monika   22\n",
      "2   Manoj   20\n"
     ]
    }
   ],
   "source": [
    "import pandas as pd\n",
    "\n",
    "# Step 1: Read the JSON file into a DataFrame\n",
    "# Use the `pd.read_json()` function to read the data from the \"text.json\" file\n",
    "# and store it in a Pandas DataFrame.\n",
    "df = pd.read_json('text.json')\n",
    "\n",
    "# Step 2: Display the DataFrame\n",
    "# You can display the contents of the DataFrame 'df' to inspect the data.\n",
    "print(df)\n"
   ]
  },
  {
   "cell_type": "code",
   "execution_count": null,
   "id": "ccf9f571",
   "metadata": {},
   "outputs": [],
   "source": []
  },
  {
   "cell_type": "code",
   "execution_count": null,
   "id": "c107ab22",
   "metadata": {},
   "outputs": [],
   "source": []
  },
  {
   "cell_type": "code",
   "execution_count": null,
   "id": "8db67d88",
   "metadata": {},
   "outputs": [],
   "source": []
  },
  {
   "cell_type": "markdown",
   "id": "749cf907",
   "metadata": {},
   "source": [
    "<h1 style=color:green><span style=color:red>Activity-8.</span> Pandas functionalities for Series & Data Frames.</h1>"
   ]
  },
  {
   "cell_type": "code",
   "execution_count": 94,
   "id": "ed78fa44",
   "metadata": {
    "scrolled": true
   },
   "outputs": [
    {
     "name": "stdout",
     "output_type": "stream",
     "text": [
      "0    10\n",
      "1    20\n",
      "2    30\n",
      "3    40\n",
      "4    50\n",
      "dtype: int64\n"
     ]
    }
   ],
   "source": [
    "# Step 1: Import the Pandas library\n",
    "import pandas as pd\n",
    "\n",
    "# Step 2: Create a Series from a list of values\n",
    "# We create a simple Series by using the `pd.Series()` constructor.\n",
    "# You can pass a list of values as the data to create the Series.\n",
    "data = [10, 20, 30, 40, 50]\n",
    "series = pd.Series(data)\n",
    "\n",
    "# Step 3: Display the Series\n",
    "# We can display the created Series by using the `print()` function.\n",
    "print(series)\n"
   ]
  },
  {
   "cell_type": "code",
   "execution_count": 95,
   "id": "4c9993c7",
   "metadata": {
    "scrolled": true
   },
   "outputs": [
    {
     "name": "stdout",
     "output_type": "stream",
     "text": [
      "25      Alice\n",
      "30        Bob\n",
      "35    Charlie\n",
      "40      David\n",
      "Name: Name, dtype: object\n"
     ]
    }
   ],
   "source": [
    "# Step 1: Import the Pandas library\n",
    "import pandas as pd\n",
    "\n",
    "# Step 2: Define lists\n",
    "# We start by defining two lists: one for names and one for ages.\n",
    "names = [\"Alice\", \"Bob\", \"Charlie\", \"David\"]\n",
    "ages = [25, 30, 35, 40]\n",
    "\n",
    "# Step 3: Create a Pandas Series\n",
    "# We use the `pd.Series()` constructor to create a Series from the lists.\n",
    "# The 'names' list becomes the data, and the 'ages' list becomes the index.\n",
    "series = pd.Series(data=names, index=ages, name='Name')\n",
    "\n",
    "# Step 4: Display the Series\n",
    "# We can display the Series to inspect the results.\n",
    "print(series)\n"
   ]
  },
  {
   "cell_type": "code",
   "execution_count": 96,
   "id": "59fdf7d0",
   "metadata": {
    "scrolled": true
   },
   "outputs": [
    {
     "data": {
      "text/plain": [
       "0    1\n",
       "1    2\n",
       "2    3\n",
       "3    a\n",
       "4    b\n",
       "dtype: object"
      ]
     },
     "execution_count": 96,
     "metadata": {},
     "output_type": "execute_result"
    }
   ],
   "source": [
    "import pandas as pd\n",
    "import numpy as np\n",
    "data=np.array([1,2,3,'a','b','c','d'])\n",
    "ser=pd.Series(data)\n",
    "ser[:5]"
   ]
  },
  {
   "cell_type": "code",
   "execution_count": 97,
   "id": "b0f69412",
   "metadata": {},
   "outputs": [
    {
     "name": "stdout",
     "output_type": "stream",
     "text": [
      "Alice's Age: 25\n",
      "Charlie's Age: 35\n"
     ]
    }
   ],
   "source": [
    "# Step 1: Import the Pandas library\n",
    "import pandas as pd\n",
    "\n",
    "# Step 2: Create a Pandas Series\n",
    "# We create a simple Series using a dictionary where keys are labels (indexes).\n",
    "data = {'Alice': 25, 'Bob': 30, 'Charlie': 35, 'David': 40}\n",
    "series = pd.Series(data, name='Age')\n",
    "\n",
    "# Step 3: Accessing an element using square brackets\n",
    "# We can access an element in the Series using its label (index) with square brackets.\n",
    "# For example, to access the age of 'Alice':\n",
    "alice_age = series['Alice']\n",
    "\n",
    "# Step 4: Accessing an element using .loc[]\n",
    "# Alternatively, we can use the .loc[] accessor to access an element by label.\n",
    "# For example, to access the age of 'Charlie':\n",
    "charlie_age = series.loc['Charlie']\n",
    "\n",
    "# Step 5: Display the accessed elements\n",
    "# We can display the accessed elements to inspect the results.\n",
    "print(\"Alice's Age:\", alice_age)\n",
    "print(\"Charlie's Age:\", charlie_age)\n"
   ]
  },
  {
   "cell_type": "code",
   "execution_count": 98,
   "id": "063c363c",
   "metadata": {},
   "outputs": [
    {
     "name": "stdout",
     "output_type": "stream",
     "text": [
      "      Name  Age\n",
      "0    Alice   25\n",
      "1      Bob   30\n",
      "2  Charlie   35\n"
     ]
    }
   ],
   "source": [
    "# Step 1: Import the Pandas library\n",
    "import pandas as pd\n",
    "\n",
    "# Step 2: Create a Pandas DataFrame\n",
    "# We create a DataFrame from a dictionary where keys become column names.\n",
    "data = {\n",
    "    'Name': ['Alice', 'Bob', 'Charlie'],\n",
    "    'Age': [25, 30, 35]\n",
    "}\n",
    "df = pd.DataFrame(data)\n",
    "\n",
    "# Step 3: Display the DataFrame\n",
    "# We can display the DataFrame to inspect the results.\n",
    "print(df)\n"
   ]
  },
  {
   "cell_type": "markdown",
   "id": "b2e4e01a",
   "metadata": {},
   "source": [
    "<h1 style=color:green><span style=color:red>Activity-9.</span>  Grouping, Merging, concatenating, joining, segregation.</h1>"
   ]
  },
  {
   "cell_type": "code",
   "execution_count": 99,
   "id": "cccba2e4",
   "metadata": {},
   "outputs": [
    {
     "name": "stdout",
     "output_type": "stream",
     "text": [
      "Grouped Data:\n",
      "Category\n",
      "A    600\n",
      "B    400\n",
      "Name: Sales, dtype: int64\n"
     ]
    }
   ],
   "source": [
    "# Step 1: Import the Pandas library\n",
    "import pandas as pd\n",
    "\n",
    "# Step 2: Create a DataFrame\n",
    "data = {'Category': ['A', 'B', 'A', 'B', 'A'],\n",
    "        'Sales': [100, 150, 200, 250, 300]}\n",
    "df = pd.DataFrame(data)\n",
    "\n",
    "# Step 3: Grouping by 'Category' and calculating the sum of 'Sales'\n",
    "grouped = df.groupby('Category')['Sales'].sum()\n",
    "print(\"Grouped Data:\")\n",
    "print(grouped)\n"
   ]
  },
  {
   "cell_type": "code",
   "execution_count": 100,
   "id": "fc6fdda2",
   "metadata": {},
   "outputs": [
    {
     "name": "stdout",
     "output_type": "stream",
     "text": [
      "Merged Data:\n",
      "   ID     Name  Salary\n",
      "0   2      Bob   50000\n",
      "1   3  Charlie   60000\n"
     ]
    }
   ],
   "source": [
    "# Step 4: Create two DataFrames\n",
    "df1 = pd.DataFrame({'ID': [1, 2, 3], 'Name': ['Alice', 'Bob', 'Charlie']})\n",
    "df2 = pd.DataFrame({'ID': [2, 3, 4], 'Salary': [50000, 60000, 70000]})\n",
    "\n",
    "# Step 5: Merging the DataFrames on 'ID'\n",
    "merged_df = pd.merge(df1, df2, on='ID', how='inner')\n",
    "print(\"Merged Data:\")\n",
    "print(merged_df)\n"
   ]
  },
  {
   "cell_type": "code",
   "execution_count": 101,
   "id": "356de618",
   "metadata": {},
   "outputs": [
    {
     "name": "stdout",
     "output_type": "stream",
     "text": [
      "Concatenated Data:\n",
      "    A   B\n",
      "0  A0  B0\n",
      "1  A1  B1\n",
      "0  A2  B2\n",
      "1  A3  B3\n"
     ]
    }
   ],
   "source": [
    "# Step 6: Create two DataFrames\n",
    "df1 = pd.DataFrame({'A': ['A0', 'A1'], 'B': ['B0', 'B1']})\n",
    "df2 = pd.DataFrame({'A': ['A2', 'A3'], 'B': ['B2', 'B3']})\n",
    "\n",
    "# Step 7: Concatenating the DataFrames along rows\n",
    "concatenated = pd.concat([df1, df2])\n",
    "print(\"Concatenated Data:\")\n",
    "print(concatenated)\n"
   ]
  },
  {
   "cell_type": "code",
   "execution_count": 102,
   "id": "f1908ea2",
   "metadata": {},
   "outputs": [
    {
     "name": "stdout",
     "output_type": "stream",
     "text": [
      "Joined Data:\n",
      "    key  value1  value2\n",
      "0.0   A     1.0     NaN\n",
      "1.0   B     2.0     4.0\n",
      "2.0   C     3.0     5.0\n",
      "NaN   D     NaN     6.0\n"
     ]
    }
   ],
   "source": [
    "# Step 8: Create two DataFrames\n",
    "df1 = pd.DataFrame({'key': ['A', 'B', 'C'], 'value1': [1, 2, 3]})\n",
    "df2 = pd.DataFrame({'key': ['B', 'C', 'D'], 'value2': [4, 5, 6]})\n",
    "\n",
    "# Step 9: Joining the DataFrames on 'key' using an outer join\n",
    "joined_df = df1.join(df2.set_index('key'), on='key', how='outer')\n",
    "print(\"Joined Data:\")\n",
    "print(joined_df)\n"
   ]
  },
  {
   "cell_type": "code",
   "execution_count": 103,
   "id": "04d75b14",
   "metadata": {},
   "outputs": [
    {
     "name": "stdout",
     "output_type": "stream",
     "text": [
      "High Sales Data:\n",
      "  Category  Sales\n",
      "3        B    250\n",
      "4        A    300\n",
      "Low Sales Data:\n",
      "  Category  Sales\n",
      "0        A    100\n",
      "1        B    150\n",
      "2        A    200\n"
     ]
    }
   ],
   "source": [
    "# Step 10: Filtering data based on a condition\n",
    "high_sales = df[df['Sales'] > 200]\n",
    "low_sales = df[df['Sales'] <= 200]\n",
    "\n",
    "print(\"High Sales Data:\")\n",
    "print(high_sales)\n",
    "print(\"Low Sales Data:\")\n",
    "print(low_sales)\n"
   ]
  },
  {
   "cell_type": "markdown",
   "id": "cdb9ed25",
   "metadata": {},
   "source": [
    "<h1 style=color:green><span style=color:red>Activity-10.</span>  Python lambda function operations on series or data frames</h1>"
   ]
  },
  {
   "cell_type": "code",
   "execution_count": 14,
   "id": "f9a226d1",
   "metadata": {},
   "outputs": [
    {
     "name": "stdout",
     "output_type": "stream",
     "text": [
      "Filtering Rows:    A\n",
      "2  3\n",
      "3  4\n",
      "4  5\n",
      "\n",
      "Applying functions to columns:    A  A_squared\n",
      "0  1          1\n",
      "1  2          4\n",
      "2  3          9\n",
      "3  4         16\n",
      "4  5         25\n",
      "\n",
      "Combining Columns:    A  B  A_plus_B\n",
      "0  1  4         5\n",
      "1  2  5         7\n",
      "2  3  6         9\n",
      "\n",
      "Custom Aggregation: Category\n",
      "A    1.5\n",
      "B    3.5\n",
      "Name: Value, dtype: float64\n",
      "\n",
      "Category Operations:    A A_category\n",
      "0  1        Odd\n",
      "1  2       Even\n",
      "2  3        Odd\n",
      "3  4       Even\n",
      "4  5        Odd\n",
      "\n",
      "Sorting    A\n",
      "2  2\n",
      "4  4\n",
      "0  1\n",
      "1  3\n",
      "3  5\n"
     ]
    }
   ],
   "source": [
    "import pandas as pd\n",
    "\n",
    "# Create a DataFrame\n",
    "df = pd.DataFrame({'A': [1, 2, 3, 4, 5]})\n",
    "\n",
    "# 1. Filtering Rows:\n",
    "# Filter rows where column 'A' is greater than 2\n",
    "filtered_df = df[df['A'].apply(lambda x: x > 2)]\n",
    "print(\"Filtering Rows:\",filtered_df)\n",
    "\n",
    "\n",
    "# 2. Applying Functions to Columns:\n",
    "# Apply a lambda function to calculate the square of each element in column 'A'\n",
    "df['A_squared'] = df['A'].apply(lambda x: x**2)\n",
    "print(\"\\nApplying functions to columns:\",df)\n",
    "\n",
    "# 3. Combining Columns:\n",
    "# Create a new column 'A_plus_B' by adding the values of columns 'A' and 'B'\n",
    "df = pd.DataFrame({'A': [1, 2, 3], 'B': [4, 5, 6]})\n",
    "df['A_plus_B'] = df.apply(lambda row: row['A'] + row['B'], axis=1)\n",
    "print(\"\\nCombining Columns:\",df)\n",
    "\n",
    "# 4. Custom Aggregation:\n",
    "# Calculate the average value of 'Value' within each 'Category' using a lambda function\n",
    "df = pd.DataFrame({'Category': ['A', 'A', 'B', 'B'], 'Value': [1, 2, 3, 4]})\n",
    "result = df.groupby('Category')['Value'].agg(lambda x: sum(x) / len(x))\n",
    "print(\"\\nCustom Aggregation:\",result)\n",
    "\n",
    "# 5. Conditional Operations:\n",
    "# Create a new column 'A_category' based on whether 'A' is even or odd\n",
    "df = pd.DataFrame({'A': [1, 2, 3, 4, 5]})\n",
    "df['A_category'] = df['A'].apply(lambda x: 'Even' if x % 2 == 0 else 'Odd')\n",
    "print(\"\\nCategory Operations:\", df)\n",
    "\n",
    "\n",
    "# 6. Sorting:\n",
    "# Sort the DataFrame based on a custom key using a lambda function\n",
    "df = pd.DataFrame({'A': [1, 3, 2, 5, 4]})\n",
    "sorted_df = df.sort_values(by='A', key=lambda x: x % 2)\n",
    "print(\"\\nSorting\",sorted_df)\n",
    "\n",
    "\n"
   ]
  },
  {
   "cell_type": "markdown",
   "id": "22898fe6",
   "metadata": {},
   "source": [
    "<h1 style=color:green><span style=color:red>Activity-11.</span>  Dealing with missing and noisy data</h1>"
   ]
  },
  {
   "cell_type": "code",
   "execution_count": 10,
   "id": "b0e85e25",
   "metadata": {},
   "outputs": [
    {
     "data": {
      "text/html": [
       "<div>\n",
       "<style scoped>\n",
       "    .dataframe tbody tr th:only-of-type {\n",
       "        vertical-align: middle;\n",
       "    }\n",
       "\n",
       "    .dataframe tbody tr th {\n",
       "        vertical-align: top;\n",
       "    }\n",
       "\n",
       "    .dataframe thead th {\n",
       "        text-align: right;\n",
       "    }\n",
       "</style>\n",
       "<table border=\"1\" class=\"dataframe\">\n",
       "  <thead>\n",
       "    <tr style=\"text-align: right;\">\n",
       "      <th></th>\n",
       "      <th>Job Position</th>\n",
       "      <th>Years of Experience</th>\n",
       "      <th>Salary</th>\n",
       "    </tr>\n",
       "  </thead>\n",
       "  <tbody>\n",
       "    <tr>\n",
       "      <th>0</th>\n",
       "      <td>CEO</td>\n",
       "      <td>5.0</td>\n",
       "      <td>100000.0</td>\n",
       "    </tr>\n",
       "    <tr>\n",
       "      <th>1</th>\n",
       "      <td>Senior Manager</td>\n",
       "      <td>4.0</td>\n",
       "      <td>80000.0</td>\n",
       "    </tr>\n",
       "    <tr>\n",
       "      <th>2</th>\n",
       "      <td>Junior Manager</td>\n",
       "      <td>3.0</td>\n",
       "      <td>NaN</td>\n",
       "    </tr>\n",
       "    <tr>\n",
       "      <th>3</th>\n",
       "      <td>Employee</td>\n",
       "      <td>NaN</td>\n",
       "      <td>40000.0</td>\n",
       "    </tr>\n",
       "    <tr>\n",
       "      <th>4</th>\n",
       "      <td>Assistant Staff</td>\n",
       "      <td>1.0</td>\n",
       "      <td>20000.0</td>\n",
       "    </tr>\n",
       "  </tbody>\n",
       "</table>\n",
       "</div>"
      ],
      "text/plain": [
       "      Job Position  Years of Experience    Salary\n",
       "0              CEO                  5.0  100000.0\n",
       "1   Senior Manager                  4.0   80000.0\n",
       "2   Junior Manager                  3.0       NaN\n",
       "3         Employee                  NaN   40000.0\n",
       "4  Assistant Staff                  1.0   20000.0"
      ]
     },
     "execution_count": 10,
     "metadata": {},
     "output_type": "execute_result"
    }
   ],
   "source": [
    "import pandas as pd\n",
    "df = pd.DataFrame({'Job Position': ['CEO', 'Senior Manager', 'Junior Manager', 'Employee', 'Assistant Staff'], 'Years of Experience':[5, 4, 3, None, 1], 'Salary':[100000,80000,None,40000, 20000]})\n",
    "df"
   ]
  },
  {
   "cell_type": "code",
   "execution_count": 6,
   "id": "cd9e4257",
   "metadata": {},
   "outputs": [
    {
     "data": {
      "text/html": [
       "<div>\n",
       "<style scoped>\n",
       "    .dataframe tbody tr th:only-of-type {\n",
       "        vertical-align: middle;\n",
       "    }\n",
       "\n",
       "    .dataframe tbody tr th {\n",
       "        vertical-align: top;\n",
       "    }\n",
       "\n",
       "    .dataframe thead th {\n",
       "        text-align: right;\n",
       "    }\n",
       "</style>\n",
       "<table border=\"1\" class=\"dataframe\">\n",
       "  <thead>\n",
       "    <tr style=\"text-align: right;\">\n",
       "      <th></th>\n",
       "      <th>Job Position</th>\n",
       "      <th>Years of Experience</th>\n",
       "      <th>Salary</th>\n",
       "    </tr>\n",
       "  </thead>\n",
       "  <tbody>\n",
       "    <tr>\n",
       "      <th>0</th>\n",
       "      <td>False</td>\n",
       "      <td>False</td>\n",
       "      <td>False</td>\n",
       "    </tr>\n",
       "    <tr>\n",
       "      <th>1</th>\n",
       "      <td>False</td>\n",
       "      <td>False</td>\n",
       "      <td>False</td>\n",
       "    </tr>\n",
       "    <tr>\n",
       "      <th>2</th>\n",
       "      <td>False</td>\n",
       "      <td>False</td>\n",
       "      <td>True</td>\n",
       "    </tr>\n",
       "    <tr>\n",
       "      <th>3</th>\n",
       "      <td>False</td>\n",
       "      <td>True</td>\n",
       "      <td>False</td>\n",
       "    </tr>\n",
       "    <tr>\n",
       "      <th>4</th>\n",
       "      <td>False</td>\n",
       "      <td>False</td>\n",
       "      <td>False</td>\n",
       "    </tr>\n",
       "  </tbody>\n",
       "</table>\n",
       "</div>"
      ],
      "text/plain": [
       "   Job Position  Years of Experience  Salary\n",
       "0         False                False   False\n",
       "1         False                False   False\n",
       "2         False                False    True\n",
       "3         False                 True   False\n",
       "4         False                False   False"
      ]
     },
     "execution_count": 6,
     "metadata": {},
     "output_type": "execute_result"
    }
   ],
   "source": [
    "df.isnull()"
   ]
  },
  {
   "cell_type": "code",
   "execution_count": 8,
   "id": "e26013d4",
   "metadata": {},
   "outputs": [
    {
     "data": {
      "text/plain": [
       "Job Position           0\n",
       "Years of Experience    1\n",
       "Salary                 1\n",
       "dtype: int64"
      ]
     },
     "execution_count": 8,
     "metadata": {},
     "output_type": "execute_result"
    }
   ],
   "source": [
    "df.isnull().sum()"
   ]
  },
  {
   "cell_type": "code",
   "execution_count": 15,
   "id": "1b72e365",
   "metadata": {},
   "outputs": [
    {
     "data": {
      "text/html": [
       "<div>\n",
       "<style scoped>\n",
       "    .dataframe tbody tr th:only-of-type {\n",
       "        vertical-align: middle;\n",
       "    }\n",
       "\n",
       "    .dataframe tbody tr th {\n",
       "        vertical-align: top;\n",
       "    }\n",
       "\n",
       "    .dataframe thead th {\n",
       "        text-align: right;\n",
       "    }\n",
       "</style>\n",
       "<table border=\"1\" class=\"dataframe\">\n",
       "  <thead>\n",
       "    <tr style=\"text-align: right;\">\n",
       "      <th></th>\n",
       "      <th>Job Position</th>\n",
       "      <th>Years of Experience</th>\n",
       "      <th>Salary</th>\n",
       "    </tr>\n",
       "  </thead>\n",
       "  <tbody>\n",
       "    <tr>\n",
       "      <th>0</th>\n",
       "      <td>CEO</td>\n",
       "      <td>5.0</td>\n",
       "      <td>100000.0</td>\n",
       "    </tr>\n",
       "    <tr>\n",
       "      <th>1</th>\n",
       "      <td>Senior Manager</td>\n",
       "      <td>4.0</td>\n",
       "      <td>80000.0</td>\n",
       "    </tr>\n",
       "    <tr>\n",
       "      <th>4</th>\n",
       "      <td>Assistant Staff</td>\n",
       "      <td>1.0</td>\n",
       "      <td>20000.0</td>\n",
       "    </tr>\n",
       "  </tbody>\n",
       "</table>\n",
       "</div>"
      ],
      "text/plain": [
       "      Job Position  Years of Experience    Salary\n",
       "0              CEO                  5.0  100000.0\n",
       "1   Senior Manager                  4.0   80000.0\n",
       "4  Assistant Staff                  1.0   20000.0"
      ]
     },
     "execution_count": 15,
     "metadata": {},
     "output_type": "execute_result"
    }
   ],
   "source": [
    "dropped_df=df.drop([2,3], axis=0)\n",
    "dropped_df"
   ]
  },
  {
   "cell_type": "code",
   "execution_count": 20,
   "id": "4c4a9171",
   "metadata": {},
   "outputs": [
    {
     "data": {
      "text/html": [
       "<div>\n",
       "<style scoped>\n",
       "    .dataframe tbody tr th:only-of-type {\n",
       "        vertical-align: middle;\n",
       "    }\n",
       "\n",
       "    .dataframe tbody tr th {\n",
       "        vertical-align: top;\n",
       "    }\n",
       "\n",
       "    .dataframe thead th {\n",
       "        text-align: right;\n",
       "    }\n",
       "</style>\n",
       "<table border=\"1\" class=\"dataframe\">\n",
       "  <thead>\n",
       "    <tr style=\"text-align: right;\">\n",
       "      <th></th>\n",
       "      <th>Job Position</th>\n",
       "      <th>Years of Experience</th>\n",
       "      <th>Salary</th>\n",
       "    </tr>\n",
       "  </thead>\n",
       "  <tbody>\n",
       "    <tr>\n",
       "      <th>0</th>\n",
       "      <td>CEO</td>\n",
       "      <td>5.00</td>\n",
       "      <td>100000.0</td>\n",
       "    </tr>\n",
       "    <tr>\n",
       "      <th>1</th>\n",
       "      <td>Senior Manager</td>\n",
       "      <td>4.00</td>\n",
       "      <td>80000.0</td>\n",
       "    </tr>\n",
       "    <tr>\n",
       "      <th>2</th>\n",
       "      <td>Junior Manager</td>\n",
       "      <td>3.00</td>\n",
       "      <td>60000.0</td>\n",
       "    </tr>\n",
       "    <tr>\n",
       "      <th>3</th>\n",
       "      <td>Employee</td>\n",
       "      <td>3.25</td>\n",
       "      <td>40000.0</td>\n",
       "    </tr>\n",
       "    <tr>\n",
       "      <th>4</th>\n",
       "      <td>Assistant Staff</td>\n",
       "      <td>1.00</td>\n",
       "      <td>20000.0</td>\n",
       "    </tr>\n",
       "  </tbody>\n",
       "</table>\n",
       "</div>"
      ],
      "text/plain": [
       "      Job Position  Years of Experience    Salary\n",
       "0              CEO                 5.00  100000.0\n",
       "1   Senior Manager                 4.00   80000.0\n",
       "2   Junior Manager                 3.00   60000.0\n",
       "3         Employee                 3.25   40000.0\n",
       "4  Assistant Staff                 1.00   20000.0"
      ]
     },
     "execution_count": 20,
     "metadata": {},
     "output_type": "execute_result"
    }
   ],
   "source": [
    "import pandas as pd\n",
    "df = pd.DataFrame({'Job Position': ['CEO', 'Senior Manager', 'Junior Manager', 'Employee', 'Assistant Staff'], 'Years of Experience':[5, 4, 3, None, 1], 'Salary':[100000,80000,None,40000, 20000]})\n",
    "# Filling each column with their mean values\n",
    "df['Years of Experience'] = df['Years of Experience'].fillna(df['Years of Experience'].mean()) \n",
    "df['Salary'] = df['Salary'].fillna(df['Salary'].mean())\n",
    "# Viewing the dataframe \n",
    "df\n"
   ]
  },
  {
   "cell_type": "markdown",
   "id": "612cb8f3",
   "metadata": {},
   "source": [
    "<h1 style=color:green><span style=color:red>Activity-12.</span>  Finding outliers</h1>"
   ]
  },
  {
   "cell_type": "code",
   "execution_count": 58,
   "id": "eb4f1306",
   "metadata": {},
   "outputs": [],
   "source": [
    "import seaborn as sns\n",
    "import pandas as pd\n",
    "import numpy as np\n",
    "import matplotlib.pyplot as plt\n",
    "# Load the Iris dataset\n",
    "data = sns.load_dataset('iris')\n"
   ]
  },
  {
   "cell_type": "code",
   "execution_count": 34,
   "id": "31709d92",
   "metadata": {},
   "outputs": [
    {
     "data": {
      "text/html": [
       "<div>\n",
       "<style scoped>\n",
       "    .dataframe tbody tr th:only-of-type {\n",
       "        vertical-align: middle;\n",
       "    }\n",
       "\n",
       "    .dataframe tbody tr th {\n",
       "        vertical-align: top;\n",
       "    }\n",
       "\n",
       "    .dataframe thead th {\n",
       "        text-align: right;\n",
       "    }\n",
       "</style>\n",
       "<table border=\"1\" class=\"dataframe\">\n",
       "  <thead>\n",
       "    <tr style=\"text-align: right;\">\n",
       "      <th></th>\n",
       "      <th>sepal_length</th>\n",
       "      <th>sepal_width</th>\n",
       "      <th>petal_length</th>\n",
       "      <th>petal_width</th>\n",
       "      <th>species</th>\n",
       "    </tr>\n",
       "  </thead>\n",
       "  <tbody>\n",
       "    <tr>\n",
       "      <th>0</th>\n",
       "      <td>5.1</td>\n",
       "      <td>3.5</td>\n",
       "      <td>1.4</td>\n",
       "      <td>0.2</td>\n",
       "      <td>setosa</td>\n",
       "    </tr>\n",
       "    <tr>\n",
       "      <th>1</th>\n",
       "      <td>4.9</td>\n",
       "      <td>3.0</td>\n",
       "      <td>1.4</td>\n",
       "      <td>0.2</td>\n",
       "      <td>setosa</td>\n",
       "    </tr>\n",
       "    <tr>\n",
       "      <th>2</th>\n",
       "      <td>4.7</td>\n",
       "      <td>3.2</td>\n",
       "      <td>1.3</td>\n",
       "      <td>0.2</td>\n",
       "      <td>setosa</td>\n",
       "    </tr>\n",
       "    <tr>\n",
       "      <th>3</th>\n",
       "      <td>4.6</td>\n",
       "      <td>3.1</td>\n",
       "      <td>1.5</td>\n",
       "      <td>0.2</td>\n",
       "      <td>setosa</td>\n",
       "    </tr>\n",
       "    <tr>\n",
       "      <th>4</th>\n",
       "      <td>5.0</td>\n",
       "      <td>3.6</td>\n",
       "      <td>1.4</td>\n",
       "      <td>0.2</td>\n",
       "      <td>setosa</td>\n",
       "    </tr>\n",
       "    <tr>\n",
       "      <th>...</th>\n",
       "      <td>...</td>\n",
       "      <td>...</td>\n",
       "      <td>...</td>\n",
       "      <td>...</td>\n",
       "      <td>...</td>\n",
       "    </tr>\n",
       "    <tr>\n",
       "      <th>145</th>\n",
       "      <td>6.7</td>\n",
       "      <td>3.0</td>\n",
       "      <td>5.2</td>\n",
       "      <td>2.3</td>\n",
       "      <td>virginica</td>\n",
       "    </tr>\n",
       "    <tr>\n",
       "      <th>146</th>\n",
       "      <td>6.3</td>\n",
       "      <td>2.5</td>\n",
       "      <td>5.0</td>\n",
       "      <td>1.9</td>\n",
       "      <td>virginica</td>\n",
       "    </tr>\n",
       "    <tr>\n",
       "      <th>147</th>\n",
       "      <td>6.5</td>\n",
       "      <td>3.0</td>\n",
       "      <td>5.2</td>\n",
       "      <td>2.0</td>\n",
       "      <td>virginica</td>\n",
       "    </tr>\n",
       "    <tr>\n",
       "      <th>148</th>\n",
       "      <td>6.2</td>\n",
       "      <td>3.4</td>\n",
       "      <td>5.4</td>\n",
       "      <td>2.3</td>\n",
       "      <td>virginica</td>\n",
       "    </tr>\n",
       "    <tr>\n",
       "      <th>149</th>\n",
       "      <td>5.9</td>\n",
       "      <td>3.0</td>\n",
       "      <td>5.1</td>\n",
       "      <td>1.8</td>\n",
       "      <td>virginica</td>\n",
       "    </tr>\n",
       "  </tbody>\n",
       "</table>\n",
       "<p>150 rows × 5 columns</p>\n",
       "</div>"
      ],
      "text/plain": [
       "     sepal_length  sepal_width  petal_length  petal_width    species\n",
       "0             5.1          3.5           1.4          0.2     setosa\n",
       "1             4.9          3.0           1.4          0.2     setosa\n",
       "2             4.7          3.2           1.3          0.2     setosa\n",
       "3             4.6          3.1           1.5          0.2     setosa\n",
       "4             5.0          3.6           1.4          0.2     setosa\n",
       "..            ...          ...           ...          ...        ...\n",
       "145           6.7          3.0           5.2          2.3  virginica\n",
       "146           6.3          2.5           5.0          1.9  virginica\n",
       "147           6.5          3.0           5.2          2.0  virginica\n",
       "148           6.2          3.4           5.4          2.3  virginica\n",
       "149           5.9          3.0           5.1          1.8  virginica\n",
       "\n",
       "[150 rows x 5 columns]"
      ]
     },
     "execution_count": 34,
     "metadata": {},
     "output_type": "execute_result"
    }
   ],
   "source": [
    "data"
   ]
  },
  {
   "cell_type": "code",
   "execution_count": 49,
   "id": "18bfd2f4",
   "metadata": {},
   "outputs": [],
   "source": [
    "col= data.columns\n"
   ]
  },
  {
   "cell_type": "code",
   "execution_count": 50,
   "id": "2baa55b4",
   "metadata": {},
   "outputs": [
    {
     "data": {
      "text/plain": [
       "Index(['sepal_length', 'sepal_width', 'petal_length', 'petal_width',\n",
       "       'species'],\n",
       "      dtype='object')"
      ]
     },
     "execution_count": 50,
     "metadata": {},
     "output_type": "execute_result"
    }
   ],
   "source": [
    "col"
   ]
  },
  {
   "cell_type": "code",
   "execution_count": 56,
   "id": "2565f859",
   "metadata": {},
   "outputs": [
    {
     "data": {
      "image/png": "[encoded data removed]",
      "text/plain": [
       "<Figure size 640x480 with 1 Axes>"
      ]
     },
     "metadata": {},
     "output_type": "display_data"
    }
   ],
   "source": [
    "for i in enumerate(col):\n",
    "    sns.boxplot(data['sepal_length'])"
   ]
  },
  {
   "cell_type": "code",
   "execution_count": 60,
   "id": "e7d85ac7",
   "metadata": {},
   "outputs": [
    {
     "name": "stdout",
     "output_type": "stream",
     "text": [
      "(array([  0,   5,  10,  14,  15,  16,  17,  18,  19,  20,  21,  23,  27,\n",
      "        28,  31,  32,  33,  36,  39,  44,  46,  48,  50,  51,  52,  53,\n",
      "        54,  55,  56,  58,  59,  61,  62,  63,  64,  65,  66,  67,  68,\n",
      "        69,  70,  71,  72,  73,  74,  75,  76,  77,  78,  79,  80,  81,\n",
      "        82,  83,  84,  85,  86,  87,  88,  89,  90,  91,  92,  94,  95,\n",
      "        96,  97,  98,  99, 100, 101, 102, 103, 104, 105, 107, 108, 109,\n",
      "       110, 111, 112, 113, 114, 115, 116, 117, 118, 119, 120, 121, 122,\n",
      "       123, 124, 125, 126, 127, 128, 129, 130, 131, 132, 133, 134, 135,\n",
      "       136, 137, 138, 139, 140, 141, 142, 143, 144, 145, 146, 147, 148,\n",
      "       149], dtype=int64),)\n"
     ]
    }
   ],
   "source": [
    "print(np.where(data['sepal_length']>5)) "
   ]
  },
  {
   "cell_type": "code",
   "execution_count": 61,
   "id": "6745bea0",
   "metadata": {},
   "outputs": [
    {
     "name": "stdout",
     "output_type": "stream",
     "text": [
      "Outlier at index 14, feature 1: Z-Score = 2.169988183264839\n",
      "Outlier at index 15, feature 1: Z-Score = 3.0907752482994253\n",
      "Outlier at index 32, feature 1: Z-Score = 2.400184949523484\n",
      "Outlier at index 33, feature 1: Z-Score = 2.630381715782132\n",
      "Outlier at index 60, feature 1: Z-Score = 2.43394714190809\n",
      "Outlier at index 105, feature 0: Z-Score = 2.1285155907934725\n",
      "Outlier at index 117, feature 0: Z-Score = 2.249683461237124\n",
      "Outlier at index 118, feature 0: Z-Score = 2.249683461237124\n",
      "Outlier at index 122, feature 0: Z-Score = 2.249683461237124\n",
      "Outlier at index 131, feature 0: Z-Score = 2.492019202124427\n",
      "Outlier at index 135, feature 0: Z-Score = 2.249683461237124\n"
     ]
    }
   ],
   "source": [
    "import numpy as np\n",
    "from sklearn import datasets\n",
    "\n",
    "# Load the Iris dataset\n",
    "iris = datasets.load_iris()\n",
    "X = iris.data  # Feature matrix\n",
    "\n",
    "# Calculate the Z-Scores for each feature\n",
    "z_scores = np.abs((X - X.mean(axis=0)) / X.std(axis=0))\n",
    "\n",
    "# Set a threshold for identifying outliers (e.g., z_score > 2.0)\n",
    "threshold = 2.0\n",
    "\n",
    "# Find the indices of outliers\n",
    "outlier_indices = np.argwhere(z_scores > threshold)\n",
    "\n",
    "# Print the indices and values of outliers\n",
    "for i, j in outlier_indices:\n",
    "    print(f\"Outlier at index {i}, feature {j}: Z-Score = {z_scores[i, j]}\")\n"
   ]
  },
  {
   "cell_type": "code",
   "execution_count": 62,
   "id": "5fcba075",
   "metadata": {},
   "outputs": [
    {
     "data": {
      "text/plain": [
       "<Axes: >"
      ]
     },
     "execution_count": 62,
     "metadata": {},
     "output_type": "execute_result"
    },
    {
     "data": {
      "image/png": "[encoded data removed]",
      "text/plain": [
       "<Figure size 640x480 with 1 Axes>"
      ]
     },
     "metadata": {},
     "output_type": "display_data"
    }
   ],
   "source": [
    "sns.boxplot(z_scores)"
   ]
  },
  {
   "cell_type": "markdown",
   "id": "dcdaef70",
   "metadata": {},
   "source": [
    "<h1 style=color:green><span style=color:red>Activity-13.</span>  Visualizing your data through matplotlib under basic charts.</h1>"
   ]
  },
  {
   "cell_type": "code",
   "execution_count": 64,
   "id": "39921fef",
   "metadata": {},
   "outputs": [
    {
     "data": {
      "image/png": "[encoded data removed]",
      "text/plain": [
       "<Figure size 640x480 with 1 Axes>"
      ]
     },
     "metadata": {},
     "output_type": "display_data"
    }
   ],
   "source": [
    "import matplotlib.pyplot as plt\n",
    "\n",
    "# Sample data\n",
    "x = [1, 2, 3, 4, 5]\n",
    "y = [10, 8, 12, 6, 14]\n",
    "\n",
    "# Create a line chart\n",
    "plt.plot(x, y, marker='o', linestyle='-')\n",
    "\n",
    "# Add labels and a title\n",
    "plt.xlabel('X-axis')\n",
    "plt.ylabel('Y-axis')\n",
    "plt.title('Line Chart Example')\n",
    "\n",
    "# Show the chart\n",
    "plt.show()\n"
   ]
  },
  {
   "cell_type": "code",
   "execution_count": 65,
   "id": "e1e2e85a",
   "metadata": {},
   "outputs": [
    {
     "data": {
      "image/png": "[encoded data removed]",
      "text/plain": [
       "<Figure size 640x480 with 1 Axes>"
      ]
     },
     "metadata": {},
     "output_type": "display_data"
    }
   ],
   "source": [
    "import matplotlib.pyplot as plt\n",
    "\n",
    "# Sample data\n",
    "categories = ['Category A', 'Category B', 'Category C', 'Category D']\n",
    "values = [15, 7, 10, 12]\n",
    "\n",
    "# Create a bar chart\n",
    "plt.bar(categories, values)\n",
    "\n",
    "# Add labels and a title\n",
    "plt.xlabel('Categories')\n",
    "plt.ylabel('Values')\n",
    "plt.title('Bar Chart Example')\n",
    "\n",
    "# Show the chart\n",
    "plt.show()\n"
   ]
  },
  {
   "cell_type": "code",
   "execution_count": 66,
   "id": "7f706d76",
   "metadata": {},
   "outputs": [
    {
     "data": {
      "image/png": "[encoded data removed]",
      "text/plain": [
       "<Figure size 640x480 with 1 Axes>"
      ]
     },
     "metadata": {},
     "output_type": "display_data"
    }
   ],
   "source": [
    "import matplotlib.pyplot as plt\n",
    "\n",
    "# Sample data\n",
    "x = [1, 2, 3, 4, 5]\n",
    "y = [10, 8, 12, 6, 14]\n",
    "\n",
    "# Create a scatter plot\n",
    "plt.scatter(x, y, marker='o', color='blue')\n",
    "\n",
    "# Add labels and a title\n",
    "plt.xlabel('X-axis')\n",
    "plt.ylabel('Y-axis')\n",
    "plt.title('Scatter Plot Example')\n",
    "\n",
    "# Show the chart\n",
    "plt.show()\n"
   ]
  },
  {
   "cell_type": "code",
   "execution_count": 69,
   "id": "7ae78eb8",
   "metadata": {},
   "outputs": [
    {
     "data": {
      "image/png": "[encoded data removed]",
      "text/plain": [
       "<Figure size 640x480 with 1 Axes>"
      ]
     },
     "metadata": {},
     "output_type": "display_data"
    }
   ],
   "source": [
    "import matplotlib.pyplot as plt\n",
    "import numpy as np\n",
    "\n",
    "# Generate some random data as an example\n",
    "data = np.random.randn(1000)  # Replace with your dataset\n",
    "\n",
    "# Create a histogram\n",
    "plt.hist(data, bins=20, color='blue', edgecolor='black')\n",
    "\n",
    "# Add labels and a title\n",
    "plt.xlabel('Value')\n",
    "plt.ylabel('Frequency')\n",
    "plt.title('Histogram Example')\n",
    "\n",
    "# Show the histogram\n",
    "plt.show()\n"
   ]
  },
  {
   "cell_type": "code",
   "execution_count": 77,
   "id": "3790d2ab",
   "metadata": {},
   "outputs": [
    {
     "data": {
      "image/png": "[encoded data removed]",
      "text/plain": [
       "<Figure size 640x480 with 1 Axes>"
      ]
     },
     "metadata": {},
     "output_type": "display_data"
    },
    {
     "data": {
      "text/plain": [
       "<Figure size 640x480 with 0 Axes>"
      ]
     },
     "metadata": {},
     "output_type": "display_data"
    }
   ],
   "source": [
    "import matplotlib.pyplot as plt\n",
    "\n",
    "# Sample data\n",
    "categories = ['Category A', 'Category B', 'Category C', 'Category D']\n",
    "values = [30, 15, 25, 20]\n",
    "\n",
    "# Create a pie chart\n",
    "plt.pie(values, labels=categories, autopct='%1.1f%%', startangle=140, shadow=True)\n",
    "\n",
    "# Add a title\n",
    "plt.title('Pie Chart Example')\n",
    "plt.savefig('mtert.jpg', format='jpg')\n",
    "# Show the pie chart\n",
    "plt.show()"
   ]
  },
  {
   "cell_type": "code",
   "execution_count": 74,
   "id": "0fd4cacf",
   "metadata": {},
   "outputs": [
    {
     "data": {
      "text/plain": [
       "<Figure size 640x480 with 0 Axes>"
      ]
     },
     "metadata": {},
     "output_type": "display_data"
    }
   ],
   "source": []
  },
  {
   "cell_type": "code",
   "execution_count": null,
   "id": "976dd7fe",
   "metadata": {},
   "outputs": [],
   "source": []
  }
 ],
 "metadata": {
  "kernelspec": {
   "display_name": "Python 3 (ipykernel)",
   "language": "python",
   "name": "python3"
  },
  "language_info": {
   "codemirror_mode": {
    "name": "ipython",
    "version": 3
   },
   "file_extension": ".py",
   "mimetype": "text/x-python",
   "name": "python",
   "nbconvert_exporter": "python",
   "pygments_lexer": "ipython3",
   "version": "3.10.9"
  }
 },
 "nbformat": 4,
 "nbformat_minor": 5
}
